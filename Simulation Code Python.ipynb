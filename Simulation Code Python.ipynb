{
 "cells": [
  {
   "attachments": {},
   "cell_type": "markdown",
   "metadata": {},
   "source": [
    "The pandas library is imported and assigned the alias \"pd\". Pandas is a powerful data manipulation and analysis library that provides data structures and functions for efficiently working with structured data.\n",
    "\n",
    "The numpy library is imported and assigned the alias \"np\". Numpy is a fundamental library for scientific computing in Python, providing support for large, multi-dimensional arrays and mathematical functions to operate on them.\n",
    "\n",
    "The matplotlib.pyplot module is imported as \"plt\". Matplotlib is a popular plotting library in Python that provides a wide range of visualization capabilities for creating static, animated, and interactive plots.\n",
    "\n",
    "The seaborn library is imported as \"sns\". Seaborn is a data visualization library built on top of matplotlib that provides a high-level interface for creating attractive and informative statistical graphics.\n",
    "\n",
    "Overall, the code is setting up the necessary tools and libraries for data analysis and visualization tasks."
   ]
  },
  {
   "cell_type": "code",
   "execution_count": 4,
   "metadata": {},
   "outputs": [],
   "source": [
    "import pandas as pd\n",
    "import numpy as np\n",
    "import matplotlib.pyplot as plt\n",
    "import seaborn as sns"
   ]
  },
  {
   "attachments": {},
   "cell_type": "markdown",
   "metadata": {},
   "source": [
    "The . read_csv() function takes a path to a CSV file and reads the data into a Pandas DataFrame object."
   ]
  },
  {
   "cell_type": "code",
   "execution_count": 2,
   "metadata": {},
   "outputs": [],
   "source": [
    "covid_19=pd.read_csv(\"covid_19_india.csv\")"
   ]
  },
  {
   "attachments": {},
   "cell_type": "markdown",
   "metadata": {},
   "source": [
    "head() - The head() method returns a specified number of rows, string from the top."
   ]
  },
  {
   "cell_type": "code",
   "execution_count": 3,
   "metadata": {},
   "outputs": [
    {
     "data": {
      "text/html": [
       "<div>\n",
       "<style scoped>\n",
       "    .dataframe tbody tr th:only-of-type {\n",
       "        vertical-align: middle;\n",
       "    }\n",
       "\n",
       "    .dataframe tbody tr th {\n",
       "        vertical-align: top;\n",
       "    }\n",
       "\n",
       "    .dataframe thead th {\n",
       "        text-align: right;\n",
       "    }\n",
       "</style>\n",
       "<table border=\"1\" class=\"dataframe\">\n",
       "  <thead>\n",
       "    <tr style=\"text-align: right;\">\n",
       "      <th></th>\n",
       "      <th>Sno</th>\n",
       "      <th>Date</th>\n",
       "      <th>Time</th>\n",
       "      <th>State/UnionTerritory</th>\n",
       "      <th>ConfirmedIndianNational</th>\n",
       "      <th>ConfirmedForeignNational</th>\n",
       "      <th>Cured</th>\n",
       "      <th>Deaths</th>\n",
       "      <th>Confirmed</th>\n",
       "    </tr>\n",
       "  </thead>\n",
       "  <tbody>\n",
       "    <tr>\n",
       "      <th>0</th>\n",
       "      <td>1</td>\n",
       "      <td>2020-01-30</td>\n",
       "      <td>6:00 PM</td>\n",
       "      <td>Kerala</td>\n",
       "      <td>1</td>\n",
       "      <td>0</td>\n",
       "      <td>0</td>\n",
       "      <td>0</td>\n",
       "      <td>1</td>\n",
       "    </tr>\n",
       "    <tr>\n",
       "      <th>1</th>\n",
       "      <td>2</td>\n",
       "      <td>2020-01-31</td>\n",
       "      <td>6:00 PM</td>\n",
       "      <td>Kerala</td>\n",
       "      <td>1</td>\n",
       "      <td>0</td>\n",
       "      <td>0</td>\n",
       "      <td>0</td>\n",
       "      <td>1</td>\n",
       "    </tr>\n",
       "    <tr>\n",
       "      <th>2</th>\n",
       "      <td>3</td>\n",
       "      <td>2020-02-01</td>\n",
       "      <td>6:00 PM</td>\n",
       "      <td>Kerala</td>\n",
       "      <td>2</td>\n",
       "      <td>0</td>\n",
       "      <td>0</td>\n",
       "      <td>0</td>\n",
       "      <td>2</td>\n",
       "    </tr>\n",
       "    <tr>\n",
       "      <th>3</th>\n",
       "      <td>4</td>\n",
       "      <td>2020-02-02</td>\n",
       "      <td>6:00 PM</td>\n",
       "      <td>Kerala</td>\n",
       "      <td>3</td>\n",
       "      <td>0</td>\n",
       "      <td>0</td>\n",
       "      <td>0</td>\n",
       "      <td>3</td>\n",
       "    </tr>\n",
       "    <tr>\n",
       "      <th>4</th>\n",
       "      <td>5</td>\n",
       "      <td>2020-02-03</td>\n",
       "      <td>6:00 PM</td>\n",
       "      <td>Kerala</td>\n",
       "      <td>3</td>\n",
       "      <td>0</td>\n",
       "      <td>0</td>\n",
       "      <td>0</td>\n",
       "      <td>3</td>\n",
       "    </tr>\n",
       "  </tbody>\n",
       "</table>\n",
       "</div>"
      ],
      "text/plain": [
       "   Sno        Date     Time State/UnionTerritory ConfirmedIndianNational  \\\n",
       "0    1  2020-01-30  6:00 PM               Kerala                       1   \n",
       "1    2  2020-01-31  6:00 PM               Kerala                       1   \n",
       "2    3  2020-02-01  6:00 PM               Kerala                       2   \n",
       "3    4  2020-02-02  6:00 PM               Kerala                       3   \n",
       "4    5  2020-02-03  6:00 PM               Kerala                       3   \n",
       "\n",
       "  ConfirmedForeignNational  Cured  Deaths  Confirmed  \n",
       "0                        0      0       0          1  \n",
       "1                        0      0       0          1  \n",
       "2                        0      0       0          2  \n",
       "3                        0      0       0          3  \n",
       "4                        0      0       0          3  "
      ]
     },
     "execution_count": 3,
     "metadata": {},
     "output_type": "execute_result"
    }
   ],
   "source": [
    "covid_19.head()"
   ]
  },
  {
   "attachments": {},
   "cell_type": "markdown",
   "metadata": {},
   "source": [
    "The info() method prints information about the DataFrame. The information contains the number of columns, column labels, column data types, memory usage, range index, and the number of cells in each column (non-null values). Note: the info() method actually prints the info."
   ]
  },
  {
   "cell_type": "code",
   "execution_count": 5,
   "metadata": {},
   "outputs": [
    {
     "name": "stdout",
     "output_type": "stream",
     "text": [
      "<class 'pandas.core.frame.DataFrame'>\n",
      "RangeIndex: 18110 entries, 0 to 18109\n",
      "Data columns (total 9 columns):\n",
      " #   Column                    Non-Null Count  Dtype \n",
      "---  ------                    --------------  ----- \n",
      " 0   Sno                       18110 non-null  int64 \n",
      " 1   Date                      18110 non-null  object\n",
      " 2   Time                      18110 non-null  object\n",
      " 3   State/UnionTerritory      18110 non-null  object\n",
      " 4   ConfirmedIndianNational   18110 non-null  object\n",
      " 5   ConfirmedForeignNational  18110 non-null  object\n",
      " 6   Cured                     18110 non-null  int64 \n",
      " 7   Deaths                    18110 non-null  int64 \n",
      " 8   Confirmed                 18110 non-null  int64 \n",
      "dtypes: int64(4), object(5)\n",
      "memory usage: 1.2+ MB\n"
     ]
    }
   ],
   "source": [
    "covid_19.info()"
   ]
  },
  {
   "attachments": {},
   "cell_type": "markdown",
   "metadata": {},
   "source": [
    "Usually, on a broader scale, the shape() method is used to fetch the dimensions of Pandas and NumPy type objects in python. Every value represented by the tuple corresponds to the actual dimension in terms of array or row/columns."
   ]
  },
  {
   "cell_type": "code",
   "execution_count": 7,
   "metadata": {},
   "outputs": [
    {
     "data": {
      "text/plain": [
       "(18110, 9)"
      ]
     },
     "execution_count": 7,
     "metadata": {},
     "output_type": "execute_result"
    }
   ],
   "source": [
    "covid_19.shape"
   ]
  },
  {
   "attachments": {},
   "cell_type": "markdown",
   "metadata": {},
   "source": [
    "The drop() method removes the specified row or column. By specifying the column axis ( axis='columns' ), the drop() method removes the specified column."
   ]
  },
  {
   "cell_type": "code",
   "execution_count": 8,
   "metadata": {},
   "outputs": [],
   "source": [
    "covid_19.drop([\"Sno\",'ConfirmedIndianNational','ConfirmedForeignNational'],axis=1,inplace=True)"
   ]
  },
  {
   "attachments": {},
   "cell_type": "markdown",
   "metadata": {},
   "source": [
    "The head() method returns a specified number of rows, string from the top. The head() method returns the first 5 rows if a number is not specified. Note: The column names will also be returned, in addition to the specified rows."
   ]
  },
  {
   "cell_type": "code",
   "execution_count": 9,
   "metadata": {},
   "outputs": [
    {
     "data": {
      "text/html": [
       "<div>\n",
       "<style scoped>\n",
       "    .dataframe tbody tr th:only-of-type {\n",
       "        vertical-align: middle;\n",
       "    }\n",
       "\n",
       "    .dataframe tbody tr th {\n",
       "        vertical-align: top;\n",
       "    }\n",
       "\n",
       "    .dataframe thead th {\n",
       "        text-align: right;\n",
       "    }\n",
       "</style>\n",
       "<table border=\"1\" class=\"dataframe\">\n",
       "  <thead>\n",
       "    <tr style=\"text-align: right;\">\n",
       "      <th></th>\n",
       "      <th>Date</th>\n",
       "      <th>Time</th>\n",
       "      <th>State/UnionTerritory</th>\n",
       "      <th>Cured</th>\n",
       "      <th>Deaths</th>\n",
       "      <th>Confirmed</th>\n",
       "    </tr>\n",
       "  </thead>\n",
       "  <tbody>\n",
       "    <tr>\n",
       "      <th>0</th>\n",
       "      <td>2020-01-30</td>\n",
       "      <td>6:00 PM</td>\n",
       "      <td>Kerala</td>\n",
       "      <td>0</td>\n",
       "      <td>0</td>\n",
       "      <td>1</td>\n",
       "    </tr>\n",
       "    <tr>\n",
       "      <th>1</th>\n",
       "      <td>2020-01-31</td>\n",
       "      <td>6:00 PM</td>\n",
       "      <td>Kerala</td>\n",
       "      <td>0</td>\n",
       "      <td>0</td>\n",
       "      <td>1</td>\n",
       "    </tr>\n",
       "    <tr>\n",
       "      <th>2</th>\n",
       "      <td>2020-02-01</td>\n",
       "      <td>6:00 PM</td>\n",
       "      <td>Kerala</td>\n",
       "      <td>0</td>\n",
       "      <td>0</td>\n",
       "      <td>2</td>\n",
       "    </tr>\n",
       "    <tr>\n",
       "      <th>3</th>\n",
       "      <td>2020-02-02</td>\n",
       "      <td>6:00 PM</td>\n",
       "      <td>Kerala</td>\n",
       "      <td>0</td>\n",
       "      <td>0</td>\n",
       "      <td>3</td>\n",
       "    </tr>\n",
       "    <tr>\n",
       "      <th>4</th>\n",
       "      <td>2020-02-03</td>\n",
       "      <td>6:00 PM</td>\n",
       "      <td>Kerala</td>\n",
       "      <td>0</td>\n",
       "      <td>0</td>\n",
       "      <td>3</td>\n",
       "    </tr>\n",
       "  </tbody>\n",
       "</table>\n",
       "</div>"
      ],
      "text/plain": [
       "         Date     Time State/UnionTerritory  Cured  Deaths  Confirmed\n",
       "0  2020-01-30  6:00 PM               Kerala      0       0          1\n",
       "1  2020-01-31  6:00 PM               Kerala      0       0          1\n",
       "2  2020-02-01  6:00 PM               Kerala      0       0          2\n",
       "3  2020-02-02  6:00 PM               Kerala      0       0          3\n",
       "4  2020-02-03  6:00 PM               Kerala      0       0          3"
      ]
     },
     "execution_count": 9,
     "metadata": {},
     "output_type": "execute_result"
    }
   ],
   "source": [
    "covid_19.head()"
   ]
  },
  {
   "attachments": {},
   "cell_type": "markdown",
   "metadata": {},
   "source": [
    "unique() function finds the unique elements of an array and returns these unique elements as a sorted array. Apart from the unique elements, there are some optional outputs also, which are as follows: The output can be the indices of the input array which give the unique values."
   ]
  },
  {
   "cell_type": "code",
   "execution_count": 10,
   "metadata": {},
   "outputs": [
    {
     "data": {
      "text/plain": [
       "(array(['Kerala', 'Telengana', 'Delhi', 'Rajasthan', 'Uttar Pradesh',\n",
       "        'Haryana', 'Ladakh', 'Tamil Nadu', 'Karnataka', 'Maharashtra',\n",
       "        'Punjab', 'Jammu and Kashmir', 'Andhra Pradesh', 'Uttarakhand',\n",
       "        'Odisha', 'Puducherry', 'West Bengal', 'Chhattisgarh',\n",
       "        'Chandigarh', 'Gujarat', 'Himachal Pradesh', 'Madhya Pradesh',\n",
       "        'Bihar', 'Manipur', 'Mizoram', 'Andaman and Nicobar Islands',\n",
       "        'Goa', 'Unassigned', 'Assam', 'Jharkhand', 'Arunachal Pradesh',\n",
       "        'Tripura', 'Nagaland', 'Meghalaya',\n",
       "        'Dadra and Nagar Haveli and Daman and Diu',\n",
       "        'Cases being reassigned to states', 'Sikkim', 'Daman & Diu',\n",
       "        'Lakshadweep', 'Telangana', 'Dadra and Nagar Haveli', 'Bihar****',\n",
       "        'Madhya Pradesh***', 'Himanchal Pradesh', 'Karanataka',\n",
       "        'Maharashtra***'], dtype=object),\n",
       " 46)"
      ]
     },
     "execution_count": 10,
     "metadata": {},
     "output_type": "execute_result"
    }
   ],
   "source": [
    "covid_19['State/UnionTerritory'].unique(),covid_19['State/UnionTerritory'].nunique()"
   ]
  },
  {
   "cell_type": "code",
   "execution_count": 11,
   "metadata": {},
   "outputs": [],
   "source": [
    "\"Correcting spelling mistakes or impurities\"\n",
    "\n",
    "state_correction_dict = {\n",
    "    'Bihar****':'Bihar',\n",
    "    'Dadra and Nagar Haveli':'Dadra and Nagar Haveli and Daman and Diu',\n",
    "    'Madhya Pradesh***':'Madhya Pradesh',\n",
    "    'Maharashtra***':'Maharashtra',\n",
    "    'Karanataka':'Karnataka'\n",
    "}"
   ]
  },
  {
   "cell_type": "code",
   "execution_count": 19,
   "metadata": {},
   "outputs": [
    {
     "data": {
      "text/plain": [
       "41"
      ]
     },
     "execution_count": 19,
     "metadata": {},
     "output_type": "execute_result"
    }
   ],
   "source": [
    "def state_correction(state):\n",
    "    try:\n",
    "        return state_correction_dict[state]\n",
    "    except:\n",
    "        return state\n",
    "    \n",
    "covid_19['State/UnionTerritory'] = covid_19['State/UnionTerritory'].apply(state_correction)\n",
    "covid_19['State/UnionTerritory'].nunique()"
   ]
  },
  {
   "cell_type": "code",
   "execution_count": 20,
   "metadata": {},
   "outputs": [],
   "source": [
    "from datetime import datetime"
   ]
  },
  {
   "cell_type": "code",
   "execution_count": 21,
   "metadata": {},
   "outputs": [],
   "source": [
    "covid_19['Date']=pd.to_datetime(covid_19['Date'],format='%Y-%m-%d')"
   ]
  },
  {
   "cell_type": "code",
   "execution_count": 22,
   "metadata": {},
   "outputs": [
    {
     "data": {
      "text/html": [
       "<div>\n",
       "<style scoped>\n",
       "    .dataframe tbody tr th:only-of-type {\n",
       "        vertical-align: middle;\n",
       "    }\n",
       "\n",
       "    .dataframe tbody tr th {\n",
       "        vertical-align: top;\n",
       "    }\n",
       "\n",
       "    .dataframe thead th {\n",
       "        text-align: right;\n",
       "    }\n",
       "</style>\n",
       "<table border=\"1\" class=\"dataframe\">\n",
       "  <thead>\n",
       "    <tr style=\"text-align: right;\">\n",
       "      <th></th>\n",
       "      <th>Date</th>\n",
       "      <th>Time</th>\n",
       "      <th>State/UnionTerritory</th>\n",
       "      <th>Cured</th>\n",
       "      <th>Deaths</th>\n",
       "      <th>Confirmed</th>\n",
       "      <th>Active_case</th>\n",
       "    </tr>\n",
       "  </thead>\n",
       "  <tbody>\n",
       "    <tr>\n",
       "      <th>0</th>\n",
       "      <td>2020-01-30</td>\n",
       "      <td>6:00 PM</td>\n",
       "      <td>Kerala</td>\n",
       "      <td>0</td>\n",
       "      <td>0</td>\n",
       "      <td>1</td>\n",
       "      <td>1</td>\n",
       "    </tr>\n",
       "    <tr>\n",
       "      <th>1</th>\n",
       "      <td>2020-01-31</td>\n",
       "      <td>6:00 PM</td>\n",
       "      <td>Kerala</td>\n",
       "      <td>0</td>\n",
       "      <td>0</td>\n",
       "      <td>1</td>\n",
       "      <td>1</td>\n",
       "    </tr>\n",
       "    <tr>\n",
       "      <th>2</th>\n",
       "      <td>2020-02-01</td>\n",
       "      <td>6:00 PM</td>\n",
       "      <td>Kerala</td>\n",
       "      <td>0</td>\n",
       "      <td>0</td>\n",
       "      <td>2</td>\n",
       "      <td>2</td>\n",
       "    </tr>\n",
       "    <tr>\n",
       "      <th>3</th>\n",
       "      <td>2020-02-02</td>\n",
       "      <td>6:00 PM</td>\n",
       "      <td>Kerala</td>\n",
       "      <td>0</td>\n",
       "      <td>0</td>\n",
       "      <td>3</td>\n",
       "      <td>3</td>\n",
       "    </tr>\n",
       "    <tr>\n",
       "      <th>4</th>\n",
       "      <td>2020-02-03</td>\n",
       "      <td>6:00 PM</td>\n",
       "      <td>Kerala</td>\n",
       "      <td>0</td>\n",
       "      <td>0</td>\n",
       "      <td>3</td>\n",
       "      <td>3</td>\n",
       "    </tr>\n",
       "  </tbody>\n",
       "</table>\n",
       "</div>"
      ],
      "text/plain": [
       "        Date     Time State/UnionTerritory  Cured  Deaths  Confirmed  \\\n",
       "0 2020-01-30  6:00 PM               Kerala      0       0          1   \n",
       "1 2020-01-31  6:00 PM               Kerala      0       0          1   \n",
       "2 2020-02-01  6:00 PM               Kerala      0       0          2   \n",
       "3 2020-02-02  6:00 PM               Kerala      0       0          3   \n",
       "4 2020-02-03  6:00 PM               Kerala      0       0          3   \n",
       "\n",
       "   Active_case  \n",
       "0            1  \n",
       "1            1  \n",
       "2            2  \n",
       "3            3  \n",
       "4            3  "
      ]
     },
     "execution_count": 22,
     "metadata": {},
     "output_type": "execute_result"
    }
   ],
   "source": [
    "covid_19.head()"
   ]
  },
  {
   "cell_type": "code",
   "execution_count": 23,
   "metadata": {},
   "outputs": [],
   "source": [
    "#Active_case\n",
    "covid_19['Active_case']=covid_19['Confirmed']-(covid_19['Cured']+covid_19['Deaths'])"
   ]
  },
  {
   "cell_type": "code",
   "execution_count": 24,
   "metadata": {},
   "outputs": [
    {
     "data": {
      "text/html": [
       "<div>\n",
       "<style scoped>\n",
       "    .dataframe tbody tr th:only-of-type {\n",
       "        vertical-align: middle;\n",
       "    }\n",
       "\n",
       "    .dataframe tbody tr th {\n",
       "        vertical-align: top;\n",
       "    }\n",
       "\n",
       "    .dataframe thead th {\n",
       "        text-align: right;\n",
       "    }\n",
       "</style>\n",
       "<table border=\"1\" class=\"dataframe\">\n",
       "  <thead>\n",
       "    <tr style=\"text-align: right;\">\n",
       "      <th></th>\n",
       "      <th>Date</th>\n",
       "      <th>Time</th>\n",
       "      <th>State/UnionTerritory</th>\n",
       "      <th>Cured</th>\n",
       "      <th>Deaths</th>\n",
       "      <th>Confirmed</th>\n",
       "      <th>Active_case</th>\n",
       "    </tr>\n",
       "  </thead>\n",
       "  <tbody>\n",
       "    <tr>\n",
       "      <th>0</th>\n",
       "      <td>2020-01-30</td>\n",
       "      <td>6:00 PM</td>\n",
       "      <td>Kerala</td>\n",
       "      <td>0</td>\n",
       "      <td>0</td>\n",
       "      <td>1</td>\n",
       "      <td>1</td>\n",
       "    </tr>\n",
       "    <tr>\n",
       "      <th>1</th>\n",
       "      <td>2020-01-31</td>\n",
       "      <td>6:00 PM</td>\n",
       "      <td>Kerala</td>\n",
       "      <td>0</td>\n",
       "      <td>0</td>\n",
       "      <td>1</td>\n",
       "      <td>1</td>\n",
       "    </tr>\n",
       "    <tr>\n",
       "      <th>2</th>\n",
       "      <td>2020-02-01</td>\n",
       "      <td>6:00 PM</td>\n",
       "      <td>Kerala</td>\n",
       "      <td>0</td>\n",
       "      <td>0</td>\n",
       "      <td>2</td>\n",
       "      <td>2</td>\n",
       "    </tr>\n",
       "    <tr>\n",
       "      <th>3</th>\n",
       "      <td>2020-02-02</td>\n",
       "      <td>6:00 PM</td>\n",
       "      <td>Kerala</td>\n",
       "      <td>0</td>\n",
       "      <td>0</td>\n",
       "      <td>3</td>\n",
       "      <td>3</td>\n",
       "    </tr>\n",
       "    <tr>\n",
       "      <th>4</th>\n",
       "      <td>2020-02-03</td>\n",
       "      <td>6:00 PM</td>\n",
       "      <td>Kerala</td>\n",
       "      <td>0</td>\n",
       "      <td>0</td>\n",
       "      <td>3</td>\n",
       "      <td>3</td>\n",
       "    </tr>\n",
       "  </tbody>\n",
       "</table>\n",
       "</div>"
      ],
      "text/plain": [
       "        Date     Time State/UnionTerritory  Cured  Deaths  Confirmed  \\\n",
       "0 2020-01-30  6:00 PM               Kerala      0       0          1   \n",
       "1 2020-01-31  6:00 PM               Kerala      0       0          1   \n",
       "2 2020-02-01  6:00 PM               Kerala      0       0          2   \n",
       "3 2020-02-02  6:00 PM               Kerala      0       0          3   \n",
       "4 2020-02-03  6:00 PM               Kerala      0       0          3   \n",
       "\n",
       "   Active_case  \n",
       "0            1  \n",
       "1            1  \n",
       "2            2  \n",
       "3            3  \n",
       "4            3  "
      ]
     },
     "execution_count": 24,
     "metadata": {},
     "output_type": "execute_result"
    }
   ],
   "source": [
    "covid_19.head()"
   ]
  },
  {
   "cell_type": "code",
   "execution_count": 25,
   "metadata": {},
   "outputs": [],
   "source": [
    "\"using pivot function to find cured , deaths , confirmed cases State wise\"\n",
    "statewise=pd.pivot_table(covid_19,values=['Cured','Deaths','Confirmed'],index='State/UnionTerritory',aggfunc='max',margins=True)"
   ]
  },
  {
   "cell_type": "code",
   "execution_count": 26,
   "metadata": {},
   "outputs": [
    {
     "data": {
      "text/html": [
       "<div>\n",
       "<style scoped>\n",
       "    .dataframe tbody tr th:only-of-type {\n",
       "        vertical-align: middle;\n",
       "    }\n",
       "\n",
       "    .dataframe tbody tr th {\n",
       "        vertical-align: top;\n",
       "    }\n",
       "\n",
       "    .dataframe thead th {\n",
       "        text-align: right;\n",
       "    }\n",
       "</style>\n",
       "<table border=\"1\" class=\"dataframe\">\n",
       "  <thead>\n",
       "    <tr style=\"text-align: right;\">\n",
       "      <th></th>\n",
       "      <th>Confirmed</th>\n",
       "      <th>Cured</th>\n",
       "      <th>Deaths</th>\n",
       "    </tr>\n",
       "    <tr>\n",
       "      <th>State/UnionTerritory</th>\n",
       "      <th></th>\n",
       "      <th></th>\n",
       "      <th></th>\n",
       "    </tr>\n",
       "  </thead>\n",
       "  <tbody>\n",
       "    <tr>\n",
       "      <th>Andaman and Nicobar Islands</th>\n",
       "      <td>7548</td>\n",
       "      <td>7412</td>\n",
       "      <td>129</td>\n",
       "    </tr>\n",
       "    <tr>\n",
       "      <th>Andhra Pradesh</th>\n",
       "      <td>1985182</td>\n",
       "      <td>1952736</td>\n",
       "      <td>13564</td>\n",
       "    </tr>\n",
       "    <tr>\n",
       "      <th>Arunachal Pradesh</th>\n",
       "      <td>50605</td>\n",
       "      <td>47821</td>\n",
       "      <td>248</td>\n",
       "    </tr>\n",
       "    <tr>\n",
       "      <th>Assam</th>\n",
       "      <td>576149</td>\n",
       "      <td>559684</td>\n",
       "      <td>5420</td>\n",
       "    </tr>\n",
       "    <tr>\n",
       "      <th>Bihar</th>\n",
       "      <td>725279</td>\n",
       "      <td>715352</td>\n",
       "      <td>9646</td>\n",
       "    </tr>\n",
       "    <tr>\n",
       "      <th>Cases being reassigned to states</th>\n",
       "      <td>9265</td>\n",
       "      <td>0</td>\n",
       "      <td>0</td>\n",
       "    </tr>\n",
       "    <tr>\n",
       "      <th>Chandigarh</th>\n",
       "      <td>61992</td>\n",
       "      <td>61150</td>\n",
       "      <td>811</td>\n",
       "    </tr>\n",
       "    <tr>\n",
       "      <th>Chhattisgarh</th>\n",
       "      <td>1003356</td>\n",
       "      <td>988189</td>\n",
       "      <td>13544</td>\n",
       "    </tr>\n",
       "    <tr>\n",
       "      <th>Dadra and Nagar Haveli and Daman and Diu</th>\n",
       "      <td>10654</td>\n",
       "      <td>10646</td>\n",
       "      <td>4</td>\n",
       "    </tr>\n",
       "    <tr>\n",
       "      <th>Daman &amp; Diu</th>\n",
       "      <td>2</td>\n",
       "      <td>0</td>\n",
       "      <td>0</td>\n",
       "    </tr>\n",
       "    <tr>\n",
       "      <th>Delhi</th>\n",
       "      <td>1436852</td>\n",
       "      <td>1411280</td>\n",
       "      <td>25068</td>\n",
       "    </tr>\n",
       "    <tr>\n",
       "      <th>Goa</th>\n",
       "      <td>172085</td>\n",
       "      <td>167978</td>\n",
       "      <td>3164</td>\n",
       "    </tr>\n",
       "    <tr>\n",
       "      <th>Gujarat</th>\n",
       "      <td>825085</td>\n",
       "      <td>814802</td>\n",
       "      <td>10077</td>\n",
       "    </tr>\n",
       "    <tr>\n",
       "      <th>Haryana</th>\n",
       "      <td>770114</td>\n",
       "      <td>759790</td>\n",
       "      <td>9652</td>\n",
       "    </tr>\n",
       "    <tr>\n",
       "      <th>Himachal Pradesh</th>\n",
       "      <td>208616</td>\n",
       "      <td>202761</td>\n",
       "      <td>3537</td>\n",
       "    </tr>\n",
       "    <tr>\n",
       "      <th>Himanchal Pradesh</th>\n",
       "      <td>204516</td>\n",
       "      <td>200040</td>\n",
       "      <td>3507</td>\n",
       "    </tr>\n",
       "    <tr>\n",
       "      <th>Jammu and Kashmir</th>\n",
       "      <td>322771</td>\n",
       "      <td>317081</td>\n",
       "      <td>4392</td>\n",
       "    </tr>\n",
       "    <tr>\n",
       "      <th>Jharkhand</th>\n",
       "      <td>347440</td>\n",
       "      <td>342102</td>\n",
       "      <td>5130</td>\n",
       "    </tr>\n",
       "    <tr>\n",
       "      <th>Karnataka</th>\n",
       "      <td>2921049</td>\n",
       "      <td>2861499</td>\n",
       "      <td>36848</td>\n",
       "    </tr>\n",
       "    <tr>\n",
       "      <th>Kerala</th>\n",
       "      <td>3586693</td>\n",
       "      <td>3396184</td>\n",
       "      <td>18004</td>\n",
       "    </tr>\n",
       "    <tr>\n",
       "      <th>Ladakh</th>\n",
       "      <td>20411</td>\n",
       "      <td>20130</td>\n",
       "      <td>207</td>\n",
       "    </tr>\n",
       "    <tr>\n",
       "      <th>Lakshadweep</th>\n",
       "      <td>10263</td>\n",
       "      <td>10165</td>\n",
       "      <td>51</td>\n",
       "    </tr>\n",
       "    <tr>\n",
       "      <th>Madhya Pradesh</th>\n",
       "      <td>791980</td>\n",
       "      <td>781330</td>\n",
       "      <td>10514</td>\n",
       "    </tr>\n",
       "    <tr>\n",
       "      <th>Maharashtra</th>\n",
       "      <td>6363442</td>\n",
       "      <td>6159676</td>\n",
       "      <td>134201</td>\n",
       "    </tr>\n",
       "    <tr>\n",
       "      <th>Manipur</th>\n",
       "      <td>105424</td>\n",
       "      <td>96776</td>\n",
       "      <td>1664</td>\n",
       "    </tr>\n",
       "    <tr>\n",
       "      <th>Meghalaya</th>\n",
       "      <td>69769</td>\n",
       "      <td>64157</td>\n",
       "      <td>1185</td>\n",
       "    </tr>\n",
       "    <tr>\n",
       "      <th>Mizoram</th>\n",
       "      <td>46320</td>\n",
       "      <td>33722</td>\n",
       "      <td>171</td>\n",
       "    </tr>\n",
       "    <tr>\n",
       "      <th>Nagaland</th>\n",
       "      <td>28811</td>\n",
       "      <td>26852</td>\n",
       "      <td>585</td>\n",
       "    </tr>\n",
       "    <tr>\n",
       "      <th>Odisha</th>\n",
       "      <td>988997</td>\n",
       "      <td>972710</td>\n",
       "      <td>6565</td>\n",
       "    </tr>\n",
       "    <tr>\n",
       "      <th>Puducherry</th>\n",
       "      <td>121766</td>\n",
       "      <td>119115</td>\n",
       "      <td>1800</td>\n",
       "    </tr>\n",
       "    <tr>\n",
       "      <th>Punjab</th>\n",
       "      <td>599573</td>\n",
       "      <td>582791</td>\n",
       "      <td>16322</td>\n",
       "    </tr>\n",
       "    <tr>\n",
       "      <th>Rajasthan</th>\n",
       "      <td>953851</td>\n",
       "      <td>944700</td>\n",
       "      <td>8954</td>\n",
       "    </tr>\n",
       "    <tr>\n",
       "      <th>Sikkim</th>\n",
       "      <td>28018</td>\n",
       "      <td>25095</td>\n",
       "      <td>356</td>\n",
       "    </tr>\n",
       "    <tr>\n",
       "      <th>Tamil Nadu</th>\n",
       "      <td>2579130</td>\n",
       "      <td>2524400</td>\n",
       "      <td>34367</td>\n",
       "    </tr>\n",
       "    <tr>\n",
       "      <th>Telangana</th>\n",
       "      <td>650353</td>\n",
       "      <td>638410</td>\n",
       "      <td>3831</td>\n",
       "    </tr>\n",
       "    <tr>\n",
       "      <th>Telengana</th>\n",
       "      <td>443360</td>\n",
       "      <td>362160</td>\n",
       "      <td>2312</td>\n",
       "    </tr>\n",
       "    <tr>\n",
       "      <th>Tripura</th>\n",
       "      <td>80660</td>\n",
       "      <td>77811</td>\n",
       "      <td>773</td>\n",
       "    </tr>\n",
       "    <tr>\n",
       "      <th>Unassigned</th>\n",
       "      <td>77</td>\n",
       "      <td>0</td>\n",
       "      <td>0</td>\n",
       "    </tr>\n",
       "    <tr>\n",
       "      <th>Uttar Pradesh</th>\n",
       "      <td>1708812</td>\n",
       "      <td>1685492</td>\n",
       "      <td>22775</td>\n",
       "    </tr>\n",
       "    <tr>\n",
       "      <th>Uttarakhand</th>\n",
       "      <td>342462</td>\n",
       "      <td>334650</td>\n",
       "      <td>7368</td>\n",
       "    </tr>\n",
       "    <tr>\n",
       "      <th>West Bengal</th>\n",
       "      <td>1534999</td>\n",
       "      <td>1506532</td>\n",
       "      <td>18252</td>\n",
       "    </tr>\n",
       "    <tr>\n",
       "      <th>All</th>\n",
       "      <td>6363442</td>\n",
       "      <td>6159676</td>\n",
       "      <td>134201</td>\n",
       "    </tr>\n",
       "  </tbody>\n",
       "</table>\n",
       "</div>"
      ],
      "text/plain": [
       "                                          Confirmed    Cured  Deaths\n",
       "State/UnionTerritory                                                \n",
       "Andaman and Nicobar Islands                    7548     7412     129\n",
       "Andhra Pradesh                              1985182  1952736   13564\n",
       "Arunachal Pradesh                             50605    47821     248\n",
       "Assam                                        576149   559684    5420\n",
       "Bihar                                        725279   715352    9646\n",
       "Cases being reassigned to states               9265        0       0\n",
       "Chandigarh                                    61992    61150     811\n",
       "Chhattisgarh                                1003356   988189   13544\n",
       "Dadra and Nagar Haveli and Daman and Diu      10654    10646       4\n",
       "Daman & Diu                                       2        0       0\n",
       "Delhi                                       1436852  1411280   25068\n",
       "Goa                                          172085   167978    3164\n",
       "Gujarat                                      825085   814802   10077\n",
       "Haryana                                      770114   759790    9652\n",
       "Himachal Pradesh                             208616   202761    3537\n",
       "Himanchal Pradesh                            204516   200040    3507\n",
       "Jammu and Kashmir                            322771   317081    4392\n",
       "Jharkhand                                    347440   342102    5130\n",
       "Karnataka                                   2921049  2861499   36848\n",
       "Kerala                                      3586693  3396184   18004\n",
       "Ladakh                                        20411    20130     207\n",
       "Lakshadweep                                   10263    10165      51\n",
       "Madhya Pradesh                               791980   781330   10514\n",
       "Maharashtra                                 6363442  6159676  134201\n",
       "Manipur                                      105424    96776    1664\n",
       "Meghalaya                                     69769    64157    1185\n",
       "Mizoram                                       46320    33722     171\n",
       "Nagaland                                      28811    26852     585\n",
       "Odisha                                       988997   972710    6565\n",
       "Puducherry                                   121766   119115    1800\n",
       "Punjab                                       599573   582791   16322\n",
       "Rajasthan                                    953851   944700    8954\n",
       "Sikkim                                        28018    25095     356\n",
       "Tamil Nadu                                  2579130  2524400   34367\n",
       "Telangana                                    650353   638410    3831\n",
       "Telengana                                    443360   362160    2312\n",
       "Tripura                                       80660    77811     773\n",
       "Unassigned                                       77        0       0\n",
       "Uttar Pradesh                               1708812  1685492   22775\n",
       "Uttarakhand                                  342462   334650    7368\n",
       "West Bengal                                 1534999  1506532   18252\n",
       "All                                         6363442  6159676  134201"
      ]
     },
     "execution_count": 26,
     "metadata": {},
     "output_type": "execute_result"
    }
   ],
   "source": [
    "statewise"
   ]
  },
  {
   "cell_type": "code",
   "execution_count": 28,
   "metadata": {},
   "outputs": [
    {
     "data": {
      "text/html": [
       "<div>\n",
       "<style scoped>\n",
       "    .dataframe tbody tr th:only-of-type {\n",
       "        vertical-align: middle;\n",
       "    }\n",
       "\n",
       "    .dataframe tbody tr th {\n",
       "        vertical-align: top;\n",
       "    }\n",
       "\n",
       "    .dataframe thead th {\n",
       "        text-align: right;\n",
       "    }\n",
       "</style>\n",
       "<table border=\"1\" class=\"dataframe\">\n",
       "  <thead>\n",
       "    <tr style=\"text-align: right;\">\n",
       "      <th></th>\n",
       "      <th>Date</th>\n",
       "      <th>Time</th>\n",
       "      <th>State/UnionTerritory</th>\n",
       "      <th>Cured</th>\n",
       "      <th>Deaths</th>\n",
       "      <th>Confirmed</th>\n",
       "      <th>Active_case</th>\n",
       "    </tr>\n",
       "  </thead>\n",
       "  <tbody>\n",
       "    <tr>\n",
       "      <th>14134</th>\n",
       "      <td>2021-04-23</td>\n",
       "      <td>8:00 AM</td>\n",
       "      <td>Maharashtra</td>\n",
       "      <td>3330747</td>\n",
       "      <td>62479</td>\n",
       "      <td>4094840</td>\n",
       "      <td>701614</td>\n",
       "    </tr>\n",
       "    <tr>\n",
       "      <th>14242</th>\n",
       "      <td>2021-04-26</td>\n",
       "      <td>8:00 AM</td>\n",
       "      <td>Maharashtra</td>\n",
       "      <td>3530060</td>\n",
       "      <td>64760</td>\n",
       "      <td>4295027</td>\n",
       "      <td>700207</td>\n",
       "    </tr>\n",
       "    <tr>\n",
       "      <th>14098</th>\n",
       "      <td>2021-04-22</td>\n",
       "      <td>8:00 AM</td>\n",
       "      <td>Maharashtra</td>\n",
       "      <td>3268449</td>\n",
       "      <td>61911</td>\n",
       "      <td>4027827</td>\n",
       "      <td>697467</td>\n",
       "    </tr>\n",
       "    <tr>\n",
       "      <th>14206</th>\n",
       "      <td>2021-04-25</td>\n",
       "      <td>8:00 AM</td>\n",
       "      <td>Maharashtra</td>\n",
       "      <td>3468610</td>\n",
       "      <td>63928</td>\n",
       "      <td>4228836</td>\n",
       "      <td>696298</td>\n",
       "    </tr>\n",
       "    <tr>\n",
       "      <th>14170</th>\n",
       "      <td>2021-04-24</td>\n",
       "      <td>8:00 AM</td>\n",
       "      <td>Maharashtra</td>\n",
       "      <td>3404792</td>\n",
       "      <td>63252</td>\n",
       "      <td>4161676</td>\n",
       "      <td>693632</td>\n",
       "    </tr>\n",
       "    <tr>\n",
       "      <th>14062</th>\n",
       "      <td>2021-04-21</td>\n",
       "      <td>8:00 AM</td>\n",
       "      <td>Maharashtra</td>\n",
       "      <td>3213464</td>\n",
       "      <td>61343</td>\n",
       "      <td>3960359</td>\n",
       "      <td>685552</td>\n",
       "    </tr>\n",
       "    <tr>\n",
       "      <th>14026</th>\n",
       "      <td>2021-04-20</td>\n",
       "      <td>8:00 AM</td>\n",
       "      <td>Maharashtra</td>\n",
       "      <td>3159240</td>\n",
       "      <td>60824</td>\n",
       "      <td>3898262</td>\n",
       "      <td>678198</td>\n",
       "    </tr>\n",
       "    <tr>\n",
       "      <th>14278</th>\n",
       "      <td>2021-04-27</td>\n",
       "      <td>8:00 AM</td>\n",
       "      <td>Maharashtra</td>\n",
       "      <td>3601796</td>\n",
       "      <td>65284</td>\n",
       "      <td>4343727</td>\n",
       "      <td>676647</td>\n",
       "    </tr>\n",
       "    <tr>\n",
       "      <th>14350</th>\n",
       "      <td>2021-04-29</td>\n",
       "      <td>8:00 AM</td>\n",
       "      <td>Maharashtra</td>\n",
       "      <td>3730729</td>\n",
       "      <td>67214</td>\n",
       "      <td>4473394</td>\n",
       "      <td>675451</td>\n",
       "    </tr>\n",
       "    <tr>\n",
       "      <th>14314</th>\n",
       "      <td>2021-04-28</td>\n",
       "      <td>8:00 AM</td>\n",
       "      <td>Maharashtra</td>\n",
       "      <td>3669548</td>\n",
       "      <td>66179</td>\n",
       "      <td>4410085</td>\n",
       "      <td>674358</td>\n",
       "    </tr>\n",
       "  </tbody>\n",
       "</table>\n",
       "</div>"
      ],
      "text/plain": [
       "            Date     Time State/UnionTerritory    Cured  Deaths  Confirmed  \\\n",
       "14134 2021-04-23  8:00 AM          Maharashtra  3330747   62479    4094840   \n",
       "14242 2021-04-26  8:00 AM          Maharashtra  3530060   64760    4295027   \n",
       "14098 2021-04-22  8:00 AM          Maharashtra  3268449   61911    4027827   \n",
       "14206 2021-04-25  8:00 AM          Maharashtra  3468610   63928    4228836   \n",
       "14170 2021-04-24  8:00 AM          Maharashtra  3404792   63252    4161676   \n",
       "14062 2021-04-21  8:00 AM          Maharashtra  3213464   61343    3960359   \n",
       "14026 2021-04-20  8:00 AM          Maharashtra  3159240   60824    3898262   \n",
       "14278 2021-04-27  8:00 AM          Maharashtra  3601796   65284    4343727   \n",
       "14350 2021-04-29  8:00 AM          Maharashtra  3730729   67214    4473394   \n",
       "14314 2021-04-28  8:00 AM          Maharashtra  3669548   66179    4410085   \n",
       "\n",
       "       Active_case  \n",
       "14134       701614  \n",
       "14242       700207  \n",
       "14098       697467  \n",
       "14206       696298  \n",
       "14170       693632  \n",
       "14062       685552  \n",
       "14026       678198  \n",
       "14278       676647  \n",
       "14350       675451  \n",
       "14314       674358  "
      ]
     },
     "execution_count": 28,
     "metadata": {},
     "output_type": "execute_result"
    }
   ],
   "source": [
    "#top ten active by statiwise\n",
    "df_top_10 = covid_19.nlargest(10,['Active_case'])\n",
    "df_top_10"
   ]
  },
  {
   "cell_type": "code",
   "execution_count": 30,
   "metadata": {},
   "outputs": [
    {
     "data": {
      "text/html": [
       "<div>\n",
       "<style scoped>\n",
       "    .dataframe tbody tr th:only-of-type {\n",
       "        vertical-align: middle;\n",
       "    }\n",
       "\n",
       "    .dataframe tbody tr th {\n",
       "        vertical-align: top;\n",
       "    }\n",
       "\n",
       "    .dataframe thead th {\n",
       "        text-align: right;\n",
       "    }\n",
       "</style>\n",
       "<table border=\"1\" class=\"dataframe\">\n",
       "  <thead>\n",
       "    <tr style=\"text-align: right;\">\n",
       "      <th></th>\n",
       "      <th>State/UnionTerritory</th>\n",
       "      <th>Active_case</th>\n",
       "    </tr>\n",
       "  </thead>\n",
       "  <tbody>\n",
       "    <tr>\n",
       "      <th>0</th>\n",
       "      <td>Maharashtra</td>\n",
       "      <td>701614</td>\n",
       "    </tr>\n",
       "    <tr>\n",
       "      <th>1</th>\n",
       "      <td>Karnataka</td>\n",
       "      <td>605515</td>\n",
       "    </tr>\n",
       "    <tr>\n",
       "      <th>2</th>\n",
       "      <td>Kerala</td>\n",
       "      <td>445692</td>\n",
       "    </tr>\n",
       "    <tr>\n",
       "      <th>3</th>\n",
       "      <td>Tamil Nadu</td>\n",
       "      <td>313048</td>\n",
       "    </tr>\n",
       "    <tr>\n",
       "      <th>4</th>\n",
       "      <td>Uttar Pradesh</td>\n",
       "      <td>310783</td>\n",
       "    </tr>\n",
       "    <tr>\n",
       "      <th>5</th>\n",
       "      <td>Rajasthan</td>\n",
       "      <td>212753</td>\n",
       "    </tr>\n",
       "    <tr>\n",
       "      <th>6</th>\n",
       "      <td>Andhra Pradesh</td>\n",
       "      <td>211554</td>\n",
       "    </tr>\n",
       "    <tr>\n",
       "      <th>7</th>\n",
       "      <td>Gujarat</td>\n",
       "      <td>148297</td>\n",
       "    </tr>\n",
       "    <tr>\n",
       "      <th>8</th>\n",
       "      <td>West Bengal</td>\n",
       "      <td>132181</td>\n",
       "    </tr>\n",
       "    <tr>\n",
       "      <th>9</th>\n",
       "      <td>Chhattisgarh</td>\n",
       "      <td>131245</td>\n",
       "    </tr>\n",
       "  </tbody>\n",
       "</table>\n",
       "</div>"
      ],
      "text/plain": [
       "  State/UnionTerritory  Active_case\n",
       "0          Maharashtra       701614\n",
       "1            Karnataka       605515\n",
       "2               Kerala       445692\n",
       "3           Tamil Nadu       313048\n",
       "4        Uttar Pradesh       310783\n",
       "5            Rajasthan       212753\n",
       "6       Andhra Pradesh       211554\n",
       "7              Gujarat       148297\n",
       "8          West Bengal       132181\n",
       "9         Chhattisgarh       131245"
      ]
     },
     "execution_count": 30,
     "metadata": {},
     "output_type": "execute_result"
    }
   ],
   "source": [
    "df_top_10 = covid_19.groupby(['State/UnionTerritory'])['Active_case'].max().sort_values(ascending=False).reset_index()\n",
    "df_top = df_top_10.nlargest(10,['Active_case'])\n",
    "df_top"
   ]
  },
  {
   "cell_type": "code",
   "execution_count": 31,
   "metadata": {},
   "outputs": [],
   "source": [
    "df_top_death=covid_19.nlargest(10,['Deaths'])"
   ]
  },
  {
   "cell_type": "code",
   "execution_count": 32,
   "metadata": {},
   "outputs": [],
   "source": [
    "df_top_10=covid_19.groupby(['State/UnionTerritory'])['Deaths'].max().sort_values(ascending=False).reset_index()"
   ]
  },
  {
   "cell_type": "code",
   "execution_count": 34,
   "metadata": {},
   "outputs": [
    {
     "data": {
      "text/html": [
       "<div>\n",
       "<style scoped>\n",
       "    .dataframe tbody tr th:only-of-type {\n",
       "        vertical-align: middle;\n",
       "    }\n",
       "\n",
       "    .dataframe tbody tr th {\n",
       "        vertical-align: top;\n",
       "    }\n",
       "\n",
       "    .dataframe thead th {\n",
       "        text-align: right;\n",
       "    }\n",
       "</style>\n",
       "<table border=\"1\" class=\"dataframe\">\n",
       "  <thead>\n",
       "    <tr style=\"text-align: right;\">\n",
       "      <th></th>\n",
       "      <th>State/UnionTerritory</th>\n",
       "      <th>Deaths</th>\n",
       "    </tr>\n",
       "  </thead>\n",
       "  <tbody>\n",
       "    <tr>\n",
       "      <th>0</th>\n",
       "      <td>Maharashtra</td>\n",
       "      <td>134201</td>\n",
       "    </tr>\n",
       "    <tr>\n",
       "      <th>1</th>\n",
       "      <td>Karnataka</td>\n",
       "      <td>36848</td>\n",
       "    </tr>\n",
       "    <tr>\n",
       "      <th>2</th>\n",
       "      <td>Tamil Nadu</td>\n",
       "      <td>34367</td>\n",
       "    </tr>\n",
       "    <tr>\n",
       "      <th>3</th>\n",
       "      <td>Delhi</td>\n",
       "      <td>25068</td>\n",
       "    </tr>\n",
       "    <tr>\n",
       "      <th>4</th>\n",
       "      <td>Uttar Pradesh</td>\n",
       "      <td>22775</td>\n",
       "    </tr>\n",
       "    <tr>\n",
       "      <th>5</th>\n",
       "      <td>West Bengal</td>\n",
       "      <td>18252</td>\n",
       "    </tr>\n",
       "    <tr>\n",
       "      <th>6</th>\n",
       "      <td>Kerala</td>\n",
       "      <td>18004</td>\n",
       "    </tr>\n",
       "    <tr>\n",
       "      <th>7</th>\n",
       "      <td>Punjab</td>\n",
       "      <td>16322</td>\n",
       "    </tr>\n",
       "    <tr>\n",
       "      <th>8</th>\n",
       "      <td>Andhra Pradesh</td>\n",
       "      <td>13564</td>\n",
       "    </tr>\n",
       "    <tr>\n",
       "      <th>9</th>\n",
       "      <td>Chhattisgarh</td>\n",
       "      <td>13544</td>\n",
       "    </tr>\n",
       "  </tbody>\n",
       "</table>\n",
       "</div>"
      ],
      "text/plain": [
       "  State/UnionTerritory  Deaths\n",
       "0          Maharashtra  134201\n",
       "1            Karnataka   36848\n",
       "2           Tamil Nadu   34367\n",
       "3                Delhi   25068\n",
       "4        Uttar Pradesh   22775\n",
       "5          West Bengal   18252\n",
       "6               Kerala   18004\n",
       "7               Punjab   16322\n",
       "8       Andhra Pradesh   13564\n",
       "9         Chhattisgarh   13544"
      ]
     },
     "execution_count": 34,
     "metadata": {},
     "output_type": "execute_result"
    }
   ],
   "source": [
    "df_top_death=df_top_10.nlargest(10,['Deaths'])\n",
    "df_top_death"
   ]
  },
  {
   "cell_type": "code",
   "execution_count": 35,
   "metadata": {},
   "outputs": [
    {
     "data": {
      "text/html": [
       "<style type=\"text/css\">\n",
       "#T_54bf8_row0_col0, #T_54bf8_row0_col1, #T_54bf8_row0_col2, #T_54bf8_row1_col0, #T_54bf8_row1_col1, #T_54bf8_row1_col2, #T_54bf8_row17_col4, #T_54bf8_row36_col3 {\n",
       "  background-color: #ffffff;\n",
       "  color: #000000;\n",
       "}\n",
       "#T_54bf8_row0_col3, #T_54bf8_row1_col3, #T_54bf8_row28_col3 {\n",
       "  background-color: #f0fbf5;\n",
       "  color: #000000;\n",
       "}\n",
       "#T_54bf8_row0_col4, #T_54bf8_row1_col4 {\n",
       "  background-color: #c3bff2;\n",
       "  color: #000000;\n",
       "}\n",
       "#T_54bf8_row2_col0 {\n",
       "  background-color: #c57a76;\n",
       "  color: #f1f1f1;\n",
       "}\n",
       "#T_54bf8_row2_col1 {\n",
       "  background-color: #bf796d;\n",
       "  color: #f1f1f1;\n",
       "}\n",
       "#T_54bf8_row2_col2, #T_54bf8_row7_col2, #T_54bf8_row32_col4 {\n",
       "  background-color: #1a213e;\n",
       "  color: #f1f1f1;\n",
       "}\n",
       "#T_54bf8_row2_col3, #T_54bf8_row31_col3 {\n",
       "  background-color: #e7f8f1;\n",
       "  color: #000000;\n",
       "}\n",
       "#T_54bf8_row2_col4, #T_54bf8_row8_col2 {\n",
       "  background-color: #17364c;\n",
       "  color: #f1f1f1;\n",
       "}\n",
       "#T_54bf8_row3_col0, #T_54bf8_row14_col4 {\n",
       "  background-color: #817a37;\n",
       "  color: #f1f1f1;\n",
       "}\n",
       "#T_54bf8_row3_col1, #T_54bf8_row3_col4 {\n",
       "  background-color: #847a38;\n",
       "  color: #f1f1f1;\n",
       "}\n",
       "#T_54bf8_row3_col2, #T_54bf8_row6_col1 {\n",
       "  background-color: #195d48;\n",
       "  color: #f1f1f1;\n",
       "}\n",
       "#T_54bf8_row3_col3, #T_54bf8_row4_col3, #T_54bf8_row21_col3, #T_54bf8_row24_col3, #T_54bf8_row25_col3, #T_54bf8_row26_col3 {\n",
       "  background-color: #f6fcf8;\n",
       "  color: #000000;\n",
       "}\n",
       "#T_54bf8_row4_col0 {\n",
       "  background-color: #577a2f;\n",
       "  color: #f1f1f1;\n",
       "}\n",
       "#T_54bf8_row4_col1 {\n",
       "  background-color: #5a7a2f;\n",
       "  color: #f1f1f1;\n",
       "}\n",
       "#T_54bf8_row4_col2 {\n",
       "  background-color: #16554b;\n",
       "  color: #f1f1f1;\n",
       "}\n",
       "#T_54bf8_row4_col4, #T_54bf8_row6_col4, #T_54bf8_row15_col4 {\n",
       "  background-color: #997944;\n",
       "  color: #f1f1f1;\n",
       "}\n",
       "#T_54bf8_row5_col0 {\n",
       "  background-color: #22693f;\n",
       "  color: #f1f1f1;\n",
       "}\n",
       "#T_54bf8_row5_col1 {\n",
       "  background-color: #256b3d;\n",
       "  color: #f1f1f1;\n",
       "}\n",
       "#T_54bf8_row5_col2, #T_54bf8_row9_col2 {\n",
       "  background-color: #1a142f;\n",
       "  color: #f1f1f1;\n",
       "}\n",
       "#T_54bf8_row5_col3, #T_54bf8_row6_col3, #T_54bf8_row9_col3, #T_54bf8_row12_col3, #T_54bf8_row13_col3, #T_54bf8_row14_col3, #T_54bf8_row15_col3, #T_54bf8_row20_col3, #T_54bf8_row30_col3, #T_54bf8_row35_col3 {\n",
       "  background-color: #fafdfb;\n",
       "  color: #000000;\n",
       "}\n",
       "#T_54bf8_row5_col4 {\n",
       "  background-color: #16534c;\n",
       "  color: #f1f1f1;\n",
       "}\n",
       "#T_54bf8_row6_col0 {\n",
       "  background-color: #175a49;\n",
       "  color: #f1f1f1;\n",
       "}\n",
       "#T_54bf8_row6_col2 {\n",
       "  background-color: #182f49;\n",
       "  color: #f1f1f1;\n",
       "}\n",
       "#T_54bf8_row7_col0 {\n",
       "  background-color: #154e4d;\n",
       "  color: #f1f1f1;\n",
       "}\n",
       "#T_54bf8_row7_col1, #T_54bf8_row10_col4 {\n",
       "  background-color: #15504d;\n",
       "  color: #f1f1f1;\n",
       "}\n",
       "#T_54bf8_row7_col3, #T_54bf8_row8_col3, #T_54bf8_row10_col3, #T_54bf8_row16_col3, #T_54bf8_row22_col3, #T_54bf8_row39_col3 {\n",
       "  background-color: #f8fdfa;\n",
       "  color: #000000;\n",
       "}\n",
       "#T_54bf8_row7_col4 {\n",
       "  background-color: #6f7b31;\n",
       "  color: #f1f1f1;\n",
       "}\n",
       "#T_54bf8_row8_col0 {\n",
       "  background-color: #15474e;\n",
       "  color: #f1f1f1;\n",
       "}\n",
       "#T_54bf8_row8_col1 {\n",
       "  background-color: #15494e;\n",
       "  color: #f1f1f1;\n",
       "}\n",
       "#T_54bf8_row8_col4 {\n",
       "  background-color: #d588b5;\n",
       "  color: #f1f1f1;\n",
       "}\n",
       "#T_54bf8_row9_col0, #T_54bf8_row10_col1 {\n",
       "  background-color: #192a46;\n",
       "  color: #f1f1f1;\n",
       "}\n",
       "#T_54bf8_row9_col1 {\n",
       "  background-color: #192c47;\n",
       "  color: #f1f1f1;\n",
       "}\n",
       "#T_54bf8_row9_col4 {\n",
       "  background-color: #9c7946;\n",
       "  color: #f1f1f1;\n",
       "}\n",
       "#T_54bf8_row10_col0, #T_54bf8_row11_col1 {\n",
       "  background-color: #192845;\n",
       "  color: #f1f1f1;\n",
       "}\n",
       "#T_54bf8_row10_col2, #T_54bf8_row22_col0 {\n",
       "  background-color: #110815;\n",
       "  color: #f1f1f1;\n",
       "}\n",
       "#T_54bf8_row11_col0 {\n",
       "  background-color: #1a2744;\n",
       "  color: #f1f1f1;\n",
       "}\n",
       "#T_54bf8_row11_col2, #T_54bf8_row19_col0 {\n",
       "  background-color: #160c1f;\n",
       "  color: #f1f1f1;\n",
       "}\n",
       "#T_54bf8_row11_col3, #T_54bf8_row37_col3 {\n",
       "  background-color: #fbfefc;\n",
       "  color: #000000;\n",
       "}\n",
       "#T_54bf8_row11_col4, #T_54bf8_row18_col4 {\n",
       "  background-color: #317236;\n",
       "  color: #f1f1f1;\n",
       "}\n",
       "#T_54bf8_row12_col0, #T_54bf8_row12_col1 {\n",
       "  background-color: #1b1f3d;\n",
       "  color: #f1f1f1;\n",
       "}\n",
       "#T_54bf8_row12_col2 {\n",
       "  background-color: #170e23;\n",
       "  color: #f1f1f1;\n",
       "}\n",
       "#T_54bf8_row12_col4 {\n",
       "  background-color: #787b34;\n",
       "  color: #f1f1f1;\n",
       "}\n",
       "#T_54bf8_row13_col0, #T_54bf8_row14_col1, #T_54bf8_row17_col2 {\n",
       "  background-color: #1b1c3a;\n",
       "  color: #f1f1f1;\n",
       "}\n",
       "#T_54bf8_row13_col1 {\n",
       "  background-color: #1b1e3b;\n",
       "  color: #f1f1f1;\n",
       "}\n",
       "#T_54bf8_row13_col2 {\n",
       "  background-color: #180f25;\n",
       "  color: #f1f1f1;\n",
       "}\n",
       "#T_54bf8_row13_col4 {\n",
       "  background-color: #967a42;\n",
       "  color: #f1f1f1;\n",
       "}\n",
       "#T_54bf8_row14_col0 {\n",
       "  background-color: #1b1b38;\n",
       "  color: #f1f1f1;\n",
       "}\n",
       "#T_54bf8_row14_col2, #T_54bf8_row15_col2 {\n",
       "  background-color: #160d21;\n",
       "  color: #f1f1f1;\n",
       "}\n",
       "#T_54bf8_row15_col0, #T_54bf8_row15_col1 {\n",
       "  background-color: #1b1a36;\n",
       "  color: #f1f1f1;\n",
       "}\n",
       "#T_54bf8_row16_col0, #T_54bf8_row16_col1 {\n",
       "  background-color: #1a1631;\n",
       "  color: #f1f1f1;\n",
       "}\n",
       "#T_54bf8_row16_col2 {\n",
       "  background-color: #0b040c;\n",
       "  color: #f1f1f1;\n",
       "}\n",
       "#T_54bf8_row16_col4 {\n",
       "  background-color: #15444f;\n",
       "  color: #f1f1f1;\n",
       "}\n",
       "#T_54bf8_row17_col0, #T_54bf8_row17_col1 {\n",
       "  background-color: #19132d;\n",
       "  color: #f1f1f1;\n",
       "}\n",
       "#T_54bf8_row17_col3, #T_54bf8_row23_col3 {\n",
       "  background-color: #f4fcf7;\n",
       "  color: #000000;\n",
       "}\n",
       "#T_54bf8_row18_col0, #T_54bf8_row18_col1 {\n",
       "  background-color: #19122b;\n",
       "  color: #f1f1f1;\n",
       "}\n",
       "#T_54bf8_row18_col2 {\n",
       "  background-color: #0f0611;\n",
       "  color: #f1f1f1;\n",
       "}\n",
       "#T_54bf8_row18_col3 {\n",
       "  background-color: #f2fbf6;\n",
       "  color: #000000;\n",
       "}\n",
       "#T_54bf8_row19_col1 {\n",
       "  background-color: #140a1b;\n",
       "  color: #f1f1f1;\n",
       "}\n",
       "#T_54bf8_row19_col2, #T_54bf8_row26_col0, #T_54bf8_row26_col1, #T_54bf8_row27_col0, #T_54bf8_row27_col1 {\n",
       "  background-color: #070206;\n",
       "  color: #f1f1f1;\n",
       "}\n",
       "#T_54bf8_row19_col3 {\n",
       "  background-color: #c2d2f3;\n",
       "  color: #000000;\n",
       "}\n",
       "#T_54bf8_row19_col4 {\n",
       "  background-color: #16394d;\n",
       "  color: #f1f1f1;\n",
       "}\n",
       "#T_54bf8_row20_col0, #T_54bf8_row21_col0, #T_54bf8_row21_col1, #T_54bf8_row22_col1 {\n",
       "  background-color: #120817;\n",
       "  color: #f1f1f1;\n",
       "}\n",
       "#T_54bf8_row20_col1, #T_54bf8_row21_col2 {\n",
       "  background-color: #130919;\n",
       "  color: #f1f1f1;\n",
       "}\n",
       "#T_54bf8_row20_col2 {\n",
       "  background-color: #0e050f;\n",
       "  color: #f1f1f1;\n",
       "}\n",
       "#T_54bf8_row20_col4 {\n",
       "  background-color: #b97964;\n",
       "  color: #f1f1f1;\n",
       "}\n",
       "#T_54bf8_row21_col4 {\n",
       "  background-color: #c2c6f3;\n",
       "  color: #000000;\n",
       "}\n",
       "#T_54bf8_row22_col2, #T_54bf8_row23_col0, #T_54bf8_row23_col1, #T_54bf8_row24_col0, #T_54bf8_row24_col1 {\n",
       "  background-color: #0c050e;\n",
       "  color: #f1f1f1;\n",
       "}\n",
       "#T_54bf8_row22_col4 {\n",
       "  background-color: #9f7948;\n",
       "  color: #f1f1f1;\n",
       "}\n",
       "#T_54bf8_row23_col2, #T_54bf8_row24_col2, #T_54bf8_row25_col0, #T_54bf8_row25_col1, #T_54bf8_row25_col2 {\n",
       "  background-color: #0a030a;\n",
       "  color: #f1f1f1;\n",
       "}\n",
       "#T_54bf8_row23_col4, #T_54bf8_row29_col4 {\n",
       "  background-color: #d383a6;\n",
       "  color: #f1f1f1;\n",
       "}\n",
       "#T_54bf8_row24_col4 {\n",
       "  background-color: #d485ac;\n",
       "  color: #f1f1f1;\n",
       "}\n",
       "#T_54bf8_row25_col4 {\n",
       "  background-color: #d392cb;\n",
       "  color: #f1f1f1;\n",
       "}\n",
       "#T_54bf8_row26_col2, #T_54bf8_row27_col2, #T_54bf8_row28_col0, #T_54bf8_row28_col1, #T_54bf8_row36_col4 {\n",
       "  background-color: #050205;\n",
       "  color: #f1f1f1;\n",
       "}\n",
       "#T_54bf8_row26_col4 {\n",
       "  background-color: #bc7967;\n",
       "  color: #f1f1f1;\n",
       "}\n",
       "#T_54bf8_row27_col3, #T_54bf8_row29_col3 {\n",
       "  background-color: #dbf3ef;\n",
       "  color: #000000;\n",
       "}\n",
       "#T_54bf8_row27_col4 {\n",
       "  background-color: #ca7c83;\n",
       "  color: #f1f1f1;\n",
       "}\n",
       "#T_54bf8_row28_col2, #T_54bf8_row30_col2, #T_54bf8_row31_col1, #T_54bf8_row32_col0, #T_54bf8_row32_col1, #T_54bf8_row33_col0, #T_54bf8_row33_col1, #T_54bf8_row33_col2, #T_54bf8_row34_col0, #T_54bf8_row34_col1 {\n",
       "  background-color: #020102;\n",
       "  color: #f1f1f1;\n",
       "}\n",
       "#T_54bf8_row28_col4 {\n",
       "  background-color: #357435;\n",
       "  color: #f1f1f1;\n",
       "}\n",
       "#T_54bf8_row29_col0, #T_54bf8_row29_col1, #T_54bf8_row29_col2, #T_54bf8_row30_col0, #T_54bf8_row30_col1, #T_54bf8_row31_col0 {\n",
       "  background-color: #030103;\n",
       "  color: #f1f1f1;\n",
       "}\n",
       "#T_54bf8_row30_col4 {\n",
       "  background-color: #937a40;\n",
       "  color: #f1f1f1;\n",
       "}\n",
       "#T_54bf8_row31_col2, #T_54bf8_row32_col2, #T_54bf8_row34_col2, #T_54bf8_row35_col0, #T_54bf8_row35_col1, #T_54bf8_row35_col2, #T_54bf8_row36_col0, #T_54bf8_row36_col1, #T_54bf8_row36_col2, #T_54bf8_row37_col0, #T_54bf8_row37_col1, #T_54bf8_row37_col2, #T_54bf8_row38_col0, #T_54bf8_row38_col1, #T_54bf8_row38_col2, #T_54bf8_row38_col3, #T_54bf8_row38_col4, #T_54bf8_row39_col0, #T_54bf8_row39_col1, #T_54bf8_row39_col2, #T_54bf8_row40_col0, #T_54bf8_row40_col1, #T_54bf8_row40_col2, #T_54bf8_row40_col3, #T_54bf8_row40_col4, #T_54bf8_row41_col0, #T_54bf8_row41_col1, #T_54bf8_row41_col2, #T_54bf8_row41_col3, #T_54bf8_row41_col4 {\n",
       "  background-color: #000000;\n",
       "  color: #f1f1f1;\n",
       "}\n",
       "#T_54bf8_row31_col4, #T_54bf8_row37_col4 {\n",
       "  background-color: #17344c;\n",
       "  color: #f1f1f1;\n",
       "}\n",
       "#T_54bf8_row32_col3 {\n",
       "  background-color: #caa9e7;\n",
       "  color: #000000;\n",
       "}\n",
       "#T_54bf8_row33_col3 {\n",
       "  background-color: #e0f5f0;\n",
       "  color: #000000;\n",
       "}\n",
       "#T_54bf8_row33_col4 {\n",
       "  background-color: #c8b1ec;\n",
       "  color: #000000;\n",
       "}\n",
       "#T_54bf8_row34_col3 {\n",
       "  background-color: #d1edef;\n",
       "  color: #000000;\n",
       "}\n",
       "#T_54bf8_row34_col4 {\n",
       "  background-color: #877a3a;\n",
       "  color: #f1f1f1;\n",
       "}\n",
       "#T_54bf8_row35_col4 {\n",
       "  background-color: #417731;\n",
       "  color: #f1f1f1;\n",
       "}\n",
       "#T_54bf8_row39_col4 {\n",
       "  background-color: #d484a9;\n",
       "  color: #f1f1f1;\n",
       "}\n",
       "</style>\n",
       "<table id=\"T_54bf8\">\n",
       "  <thead>\n",
       "    <tr>\n",
       "      <th class=\"blank level0\" >&nbsp;</th>\n",
       "      <th id=\"T_54bf8_level0_col0\" class=\"col_heading level0 col0\" >Confirmed</th>\n",
       "      <th id=\"T_54bf8_level0_col1\" class=\"col_heading level0 col1\" >Cured</th>\n",
       "      <th id=\"T_54bf8_level0_col2\" class=\"col_heading level0 col2\" >Deaths</th>\n",
       "      <th id=\"T_54bf8_level0_col3\" class=\"col_heading level0 col3\" >Recovary_rate</th>\n",
       "      <th id=\"T_54bf8_level0_col4\" class=\"col_heading level0 col4\" >Deathrate</th>\n",
       "    </tr>\n",
       "    <tr>\n",
       "      <th class=\"index_name level0\" >State/UnionTerritory</th>\n",
       "      <th class=\"blank col0\" >&nbsp;</th>\n",
       "      <th class=\"blank col1\" >&nbsp;</th>\n",
       "      <th class=\"blank col2\" >&nbsp;</th>\n",
       "      <th class=\"blank col3\" >&nbsp;</th>\n",
       "      <th class=\"blank col4\" >&nbsp;</th>\n",
       "    </tr>\n",
       "  </thead>\n",
       "  <tbody>\n",
       "    <tr>\n",
       "      <th id=\"T_54bf8_level0_row0\" class=\"row_heading level0 row0\" >All</th>\n",
       "      <td id=\"T_54bf8_row0_col0\" class=\"data row0 col0\" >6363442</td>\n",
       "      <td id=\"T_54bf8_row0_col1\" class=\"data row0 col1\" >6159676</td>\n",
       "      <td id=\"T_54bf8_row0_col2\" class=\"data row0 col2\" >134201</td>\n",
       "      <td id=\"T_54bf8_row0_col3\" class=\"data row0 col3\" >96.797865</td>\n",
       "      <td id=\"T_54bf8_row0_col4\" class=\"data row0 col4\" >2.108937</td>\n",
       "    </tr>\n",
       "    <tr>\n",
       "      <th id=\"T_54bf8_level0_row1\" class=\"row_heading level0 row1\" >Maharashtra</th>\n",
       "      <td id=\"T_54bf8_row1_col0\" class=\"data row1 col0\" >6363442</td>\n",
       "      <td id=\"T_54bf8_row1_col1\" class=\"data row1 col1\" >6159676</td>\n",
       "      <td id=\"T_54bf8_row1_col2\" class=\"data row1 col2\" >134201</td>\n",
       "      <td id=\"T_54bf8_row1_col3\" class=\"data row1 col3\" >96.797865</td>\n",
       "      <td id=\"T_54bf8_row1_col4\" class=\"data row1 col4\" >2.108937</td>\n",
       "    </tr>\n",
       "    <tr>\n",
       "      <th id=\"T_54bf8_level0_row2\" class=\"row_heading level0 row2\" >Kerala</th>\n",
       "      <td id=\"T_54bf8_row2_col0\" class=\"data row2 col0\" >3586693</td>\n",
       "      <td id=\"T_54bf8_row2_col1\" class=\"data row2 col1\" >3396184</td>\n",
       "      <td id=\"T_54bf8_row2_col2\" class=\"data row2 col2\" >18004</td>\n",
       "      <td id=\"T_54bf8_row2_col3\" class=\"data row2 col3\" >94.688450</td>\n",
       "      <td id=\"T_54bf8_row2_col4\" class=\"data row2 col4\" >0.501967</td>\n",
       "    </tr>\n",
       "    <tr>\n",
       "      <th id=\"T_54bf8_level0_row3\" class=\"row_heading level0 row3\" >Karnataka</th>\n",
       "      <td id=\"T_54bf8_row3_col0\" class=\"data row3 col0\" >2921049</td>\n",
       "      <td id=\"T_54bf8_row3_col1\" class=\"data row3 col1\" >2861499</td>\n",
       "      <td id=\"T_54bf8_row3_col2\" class=\"data row3 col2\" >36848</td>\n",
       "      <td id=\"T_54bf8_row3_col3\" class=\"data row3 col3\" >97.961349</td>\n",
       "      <td id=\"T_54bf8_row3_col4\" class=\"data row3 col4\" >1.261465</td>\n",
       "    </tr>\n",
       "    <tr>\n",
       "      <th id=\"T_54bf8_level0_row4\" class=\"row_heading level0 row4\" >Tamil Nadu</th>\n",
       "      <td id=\"T_54bf8_row4_col0\" class=\"data row4 col0\" >2579130</td>\n",
       "      <td id=\"T_54bf8_row4_col1\" class=\"data row4 col1\" >2524400</td>\n",
       "      <td id=\"T_54bf8_row4_col2\" class=\"data row4 col2\" >34367</td>\n",
       "      <td id=\"T_54bf8_row4_col3\" class=\"data row4 col3\" >97.877967</td>\n",
       "      <td id=\"T_54bf8_row4_col4\" class=\"data row4 col4\" >1.332504</td>\n",
       "    </tr>\n",
       "    <tr>\n",
       "      <th id=\"T_54bf8_level0_row5\" class=\"row_heading level0 row5\" >Andhra Pradesh</th>\n",
       "      <td id=\"T_54bf8_row5_col0\" class=\"data row5 col0\" >1985182</td>\n",
       "      <td id=\"T_54bf8_row5_col1\" class=\"data row5 col1\" >1952736</td>\n",
       "      <td id=\"T_54bf8_row5_col2\" class=\"data row5 col2\" >13564</td>\n",
       "      <td id=\"T_54bf8_row5_col3\" class=\"data row5 col3\" >98.365591</td>\n",
       "      <td id=\"T_54bf8_row5_col4\" class=\"data row5 col4\" >0.683262</td>\n",
       "    </tr>\n",
       "    <tr>\n",
       "      <th id=\"T_54bf8_level0_row6\" class=\"row_heading level0 row6\" >Uttar Pradesh</th>\n",
       "      <td id=\"T_54bf8_row6_col0\" class=\"data row6 col0\" >1708812</td>\n",
       "      <td id=\"T_54bf8_row6_col1\" class=\"data row6 col1\" >1685492</td>\n",
       "      <td id=\"T_54bf8_row6_col2\" class=\"data row6 col2\" >22775</td>\n",
       "      <td id=\"T_54bf8_row6_col3\" class=\"data row6 col3\" >98.635309</td>\n",
       "      <td id=\"T_54bf8_row6_col4\" class=\"data row6 col4\" >1.332797</td>\n",
       "    </tr>\n",
       "    <tr>\n",
       "      <th id=\"T_54bf8_level0_row7\" class=\"row_heading level0 row7\" >West Bengal</th>\n",
       "      <td id=\"T_54bf8_row7_col0\" class=\"data row7 col0\" >1534999</td>\n",
       "      <td id=\"T_54bf8_row7_col1\" class=\"data row7 col1\" >1506532</td>\n",
       "      <td id=\"T_54bf8_row7_col2\" class=\"data row7 col2\" >18252</td>\n",
       "      <td id=\"T_54bf8_row7_col3\" class=\"data row7 col3\" >98.145471</td>\n",
       "      <td id=\"T_54bf8_row7_col4\" class=\"data row7 col4\" >1.189056</td>\n",
       "    </tr>\n",
       "    <tr>\n",
       "      <th id=\"T_54bf8_level0_row8\" class=\"row_heading level0 row8\" >Delhi</th>\n",
       "      <td id=\"T_54bf8_row8_col0\" class=\"data row8 col0\" >1436852</td>\n",
       "      <td id=\"T_54bf8_row8_col1\" class=\"data row8 col1\" >1411280</td>\n",
       "      <td id=\"T_54bf8_row8_col2\" class=\"data row8 col2\" >25068</td>\n",
       "      <td id=\"T_54bf8_row8_col3\" class=\"data row8 col3\" >98.220276</td>\n",
       "      <td id=\"T_54bf8_row8_col4\" class=\"data row8 col4\" >1.744647</td>\n",
       "    </tr>\n",
       "    <tr>\n",
       "      <th id=\"T_54bf8_level0_row9\" class=\"row_heading level0 row9\" >Chhattisgarh</th>\n",
       "      <td id=\"T_54bf8_row9_col0\" class=\"data row9 col0\" >1003356</td>\n",
       "      <td id=\"T_54bf8_row9_col1\" class=\"data row9 col1\" >988189</td>\n",
       "      <td id=\"T_54bf8_row9_col2\" class=\"data row9 col2\" >13544</td>\n",
       "      <td id=\"T_54bf8_row9_col3\" class=\"data row9 col3\" >98.488373</td>\n",
       "      <td id=\"T_54bf8_row9_col4\" class=\"data row9 col4\" >1.349870</td>\n",
       "    </tr>\n",
       "    <tr>\n",
       "      <th id=\"T_54bf8_level0_row10\" class=\"row_heading level0 row10\" >Odisha</th>\n",
       "      <td id=\"T_54bf8_row10_col0\" class=\"data row10 col0\" >988997</td>\n",
       "      <td id=\"T_54bf8_row10_col1\" class=\"data row10 col1\" >972710</td>\n",
       "      <td id=\"T_54bf8_row10_col2\" class=\"data row10 col2\" >6565</td>\n",
       "      <td id=\"T_54bf8_row10_col3\" class=\"data row10 col3\" >98.353180</td>\n",
       "      <td id=\"T_54bf8_row10_col4\" class=\"data row10 col4\" >0.663804</td>\n",
       "    </tr>\n",
       "    <tr>\n",
       "      <th id=\"T_54bf8_level0_row11\" class=\"row_heading level0 row11\" >Rajasthan</th>\n",
       "      <td id=\"T_54bf8_row11_col0\" class=\"data row11 col0\" >953851</td>\n",
       "      <td id=\"T_54bf8_row11_col1\" class=\"data row11 col1\" >944700</td>\n",
       "      <td id=\"T_54bf8_row11_col2\" class=\"data row11 col2\" >8954</td>\n",
       "      <td id=\"T_54bf8_row11_col3\" class=\"data row11 col3\" >99.040626</td>\n",
       "      <td id=\"T_54bf8_row11_col4\" class=\"data row11 col4\" >0.938721</td>\n",
       "    </tr>\n",
       "    <tr>\n",
       "      <th id=\"T_54bf8_level0_row12\" class=\"row_heading level0 row12\" >Gujarat</th>\n",
       "      <td id=\"T_54bf8_row12_col0\" class=\"data row12 col0\" >825085</td>\n",
       "      <td id=\"T_54bf8_row12_col1\" class=\"data row12 col1\" >814802</td>\n",
       "      <td id=\"T_54bf8_row12_col2\" class=\"data row12 col2\" >10077</td>\n",
       "      <td id=\"T_54bf8_row12_col3\" class=\"data row12 col3\" >98.753704</td>\n",
       "      <td id=\"T_54bf8_row12_col4\" class=\"data row12 col4\" >1.221329</td>\n",
       "    </tr>\n",
       "    <tr>\n",
       "      <th id=\"T_54bf8_level0_row13\" class=\"row_heading level0 row13\" >Madhya Pradesh</th>\n",
       "      <td id=\"T_54bf8_row13_col0\" class=\"data row13 col0\" >791980</td>\n",
       "      <td id=\"T_54bf8_row13_col1\" class=\"data row13 col1\" >781330</td>\n",
       "      <td id=\"T_54bf8_row13_col2\" class=\"data row13 col2\" >10514</td>\n",
       "      <td id=\"T_54bf8_row13_col3\" class=\"data row13 col3\" >98.655269</td>\n",
       "      <td id=\"T_54bf8_row13_col4\" class=\"data row13 col4\" >1.327559</td>\n",
       "    </tr>\n",
       "    <tr>\n",
       "      <th id=\"T_54bf8_level0_row14\" class=\"row_heading level0 row14\" >Haryana</th>\n",
       "      <td id=\"T_54bf8_row14_col0\" class=\"data row14 col0\" >770114</td>\n",
       "      <td id=\"T_54bf8_row14_col1\" class=\"data row14 col1\" >759790</td>\n",
       "      <td id=\"T_54bf8_row14_col2\" class=\"data row14 col2\" >9652</td>\n",
       "      <td id=\"T_54bf8_row14_col3\" class=\"data row14 col3\" >98.659419</td>\n",
       "      <td id=\"T_54bf8_row14_col4\" class=\"data row14 col4\" >1.253321</td>\n",
       "    </tr>\n",
       "    <tr>\n",
       "      <th id=\"T_54bf8_level0_row15\" class=\"row_heading level0 row15\" >Bihar</th>\n",
       "      <td id=\"T_54bf8_row15_col0\" class=\"data row15 col0\" >725279</td>\n",
       "      <td id=\"T_54bf8_row15_col1\" class=\"data row15 col1\" >715352</td>\n",
       "      <td id=\"T_54bf8_row15_col2\" class=\"data row15 col2\" >9646</td>\n",
       "      <td id=\"T_54bf8_row15_col3\" class=\"data row15 col3\" >98.631285</td>\n",
       "      <td id=\"T_54bf8_row15_col4\" class=\"data row15 col4\" >1.329971</td>\n",
       "    </tr>\n",
       "    <tr>\n",
       "      <th id=\"T_54bf8_level0_row16\" class=\"row_heading level0 row16\" >Telangana</th>\n",
       "      <td id=\"T_54bf8_row16_col0\" class=\"data row16 col0\" >650353</td>\n",
       "      <td id=\"T_54bf8_row16_col1\" class=\"data row16 col1\" >638410</td>\n",
       "      <td id=\"T_54bf8_row16_col2\" class=\"data row16 col2\" >3831</td>\n",
       "      <td id=\"T_54bf8_row16_col3\" class=\"data row16 col3\" >98.163613</td>\n",
       "      <td id=\"T_54bf8_row16_col4\" class=\"data row16 col4\" >0.589065</td>\n",
       "    </tr>\n",
       "    <tr>\n",
       "      <th id=\"T_54bf8_level0_row17\" class=\"row_heading level0 row17\" >Punjab</th>\n",
       "      <td id=\"T_54bf8_row17_col0\" class=\"data row17 col0\" >599573</td>\n",
       "      <td id=\"T_54bf8_row17_col1\" class=\"data row17 col1\" >582791</td>\n",
       "      <td id=\"T_54bf8_row17_col2\" class=\"data row17 col2\" >16322</td>\n",
       "      <td id=\"T_54bf8_row17_col3\" class=\"data row17 col3\" >97.201008</td>\n",
       "      <td id=\"T_54bf8_row17_col4\" class=\"data row17 col4\" >2.722271</td>\n",
       "    </tr>\n",
       "    <tr>\n",
       "      <th id=\"T_54bf8_level0_row18\" class=\"row_heading level0 row18\" >Assam</th>\n",
       "      <td id=\"T_54bf8_row18_col0\" class=\"data row18 col0\" >576149</td>\n",
       "      <td id=\"T_54bf8_row18_col1\" class=\"data row18 col1\" >559684</td>\n",
       "      <td id=\"T_54bf8_row18_col2\" class=\"data row18 col2\" >5420</td>\n",
       "      <td id=\"T_54bf8_row18_col3\" class=\"data row18 col3\" >97.142232</td>\n",
       "      <td id=\"T_54bf8_row18_col4\" class=\"data row18 col4\" >0.940729</td>\n",
       "    </tr>\n",
       "    <tr>\n",
       "      <th id=\"T_54bf8_level0_row19\" class=\"row_heading level0 row19\" >Telengana</th>\n",
       "      <td id=\"T_54bf8_row19_col0\" class=\"data row19 col0\" >443360</td>\n",
       "      <td id=\"T_54bf8_row19_col1\" class=\"data row19 col1\" >362160</td>\n",
       "      <td id=\"T_54bf8_row19_col2\" class=\"data row19 col2\" >2312</td>\n",
       "      <td id=\"T_54bf8_row19_col3\" class=\"data row19 col3\" >81.685312</td>\n",
       "      <td id=\"T_54bf8_row19_col4\" class=\"data row19 col4\" >0.521472</td>\n",
       "    </tr>\n",
       "    <tr>\n",
       "      <th id=\"T_54bf8_level0_row20\" class=\"row_heading level0 row20\" >Jharkhand</th>\n",
       "      <td id=\"T_54bf8_row20_col0\" class=\"data row20 col0\" >347440</td>\n",
       "      <td id=\"T_54bf8_row20_col1\" class=\"data row20 col1\" >342102</td>\n",
       "      <td id=\"T_54bf8_row20_col2\" class=\"data row20 col2\" >5130</td>\n",
       "      <td id=\"T_54bf8_row20_col3\" class=\"data row20 col3\" >98.463620</td>\n",
       "      <td id=\"T_54bf8_row20_col4\" class=\"data row20 col4\" >1.476514</td>\n",
       "    </tr>\n",
       "    <tr>\n",
       "      <th id=\"T_54bf8_level0_row21\" class=\"row_heading level0 row21\" >Uttarakhand</th>\n",
       "      <td id=\"T_54bf8_row21_col0\" class=\"data row21 col0\" >342462</td>\n",
       "      <td id=\"T_54bf8_row21_col1\" class=\"data row21 col1\" >334650</td>\n",
       "      <td id=\"T_54bf8_row21_col2\" class=\"data row21 col2\" >7368</td>\n",
       "      <td id=\"T_54bf8_row21_col3\" class=\"data row21 col3\" >97.718871</td>\n",
       "      <td id=\"T_54bf8_row21_col4\" class=\"data row21 col4\" >2.151480</td>\n",
       "    </tr>\n",
       "    <tr>\n",
       "      <th id=\"T_54bf8_level0_row22\" class=\"row_heading level0 row22\" >Jammu and Kashmir</th>\n",
       "      <td id=\"T_54bf8_row22_col0\" class=\"data row22 col0\" >322771</td>\n",
       "      <td id=\"T_54bf8_row22_col1\" class=\"data row22 col1\" >317081</td>\n",
       "      <td id=\"T_54bf8_row22_col2\" class=\"data row22 col2\" >4392</td>\n",
       "      <td id=\"T_54bf8_row22_col3\" class=\"data row22 col3\" >98.237140</td>\n",
       "      <td id=\"T_54bf8_row22_col4\" class=\"data row22 col4\" >1.360717</td>\n",
       "    </tr>\n",
       "    <tr>\n",
       "      <th id=\"T_54bf8_level0_row23\" class=\"row_heading level0 row23\" >Himachal Pradesh</th>\n",
       "      <td id=\"T_54bf8_row23_col0\" class=\"data row23 col0\" >208616</td>\n",
       "      <td id=\"T_54bf8_row23_col1\" class=\"data row23 col1\" >202761</td>\n",
       "      <td id=\"T_54bf8_row23_col2\" class=\"data row23 col2\" >3537</td>\n",
       "      <td id=\"T_54bf8_row23_col3\" class=\"data row23 col3\" >97.193408</td>\n",
       "      <td id=\"T_54bf8_row23_col4\" class=\"data row23 col4\" >1.695460</td>\n",
       "    </tr>\n",
       "    <tr>\n",
       "      <th id=\"T_54bf8_level0_row24\" class=\"row_heading level0 row24\" >Himanchal Pradesh</th>\n",
       "      <td id=\"T_54bf8_row24_col0\" class=\"data row24 col0\" >204516</td>\n",
       "      <td id=\"T_54bf8_row24_col1\" class=\"data row24 col1\" >200040</td>\n",
       "      <td id=\"T_54bf8_row24_col2\" class=\"data row24 col2\" >3507</td>\n",
       "      <td id=\"T_54bf8_row24_col3\" class=\"data row24 col3\" >97.811418</td>\n",
       "      <td id=\"T_54bf8_row24_col4\" class=\"data row24 col4\" >1.714780</td>\n",
       "    </tr>\n",
       "    <tr>\n",
       "      <th id=\"T_54bf8_level0_row25\" class=\"row_heading level0 row25\" >Goa</th>\n",
       "      <td id=\"T_54bf8_row25_col0\" class=\"data row25 col0\" >172085</td>\n",
       "      <td id=\"T_54bf8_row25_col1\" class=\"data row25 col1\" >167978</td>\n",
       "      <td id=\"T_54bf8_row25_col2\" class=\"data row25 col2\" >3164</td>\n",
       "      <td id=\"T_54bf8_row25_col3\" class=\"data row25 col3\" >97.613389</td>\n",
       "      <td id=\"T_54bf8_row25_col4\" class=\"data row25 col4\" >1.838626</td>\n",
       "    </tr>\n",
       "    <tr>\n",
       "      <th id=\"T_54bf8_level0_row26\" class=\"row_heading level0 row26\" >Puducherry</th>\n",
       "      <td id=\"T_54bf8_row26_col0\" class=\"data row26 col0\" >121766</td>\n",
       "      <td id=\"T_54bf8_row26_col1\" class=\"data row26 col1\" >119115</td>\n",
       "      <td id=\"T_54bf8_row26_col2\" class=\"data row26 col2\" >1800</td>\n",
       "      <td id=\"T_54bf8_row26_col3\" class=\"data row26 col3\" >97.822873</td>\n",
       "      <td id=\"T_54bf8_row26_col4\" class=\"data row26 col4\" >1.478245</td>\n",
       "    </tr>\n",
       "    <tr>\n",
       "      <th id=\"T_54bf8_level0_row27\" class=\"row_heading level0 row27\" >Manipur</th>\n",
       "      <td id=\"T_54bf8_row27_col0\" class=\"data row27 col0\" >105424</td>\n",
       "      <td id=\"T_54bf8_row27_col1\" class=\"data row27 col1\" >96776</td>\n",
       "      <td id=\"T_54bf8_row27_col2\" class=\"data row27 col2\" >1664</td>\n",
       "      <td id=\"T_54bf8_row27_col3\" class=\"data row27 col3\" >91.796934</td>\n",
       "      <td id=\"T_54bf8_row27_col4\" class=\"data row27 col4\" >1.578388</td>\n",
       "    </tr>\n",
       "    <tr>\n",
       "      <th id=\"T_54bf8_level0_row28\" class=\"row_heading level0 row28\" >Tripura</th>\n",
       "      <td id=\"T_54bf8_row28_col0\" class=\"data row28 col0\" >80660</td>\n",
       "      <td id=\"T_54bf8_row28_col1\" class=\"data row28 col1\" >77811</td>\n",
       "      <td id=\"T_54bf8_row28_col2\" class=\"data row28 col2\" >773</td>\n",
       "      <td id=\"T_54bf8_row28_col3\" class=\"data row28 col3\" >96.467890</td>\n",
       "      <td id=\"T_54bf8_row28_col4\" class=\"data row28 col4\" >0.958344</td>\n",
       "    </tr>\n",
       "    <tr>\n",
       "      <th id=\"T_54bf8_level0_row29\" class=\"row_heading level0 row29\" >Meghalaya</th>\n",
       "      <td id=\"T_54bf8_row29_col0\" class=\"data row29 col0\" >69769</td>\n",
       "      <td id=\"T_54bf8_row29_col1\" class=\"data row29 col1\" >64157</td>\n",
       "      <td id=\"T_54bf8_row29_col2\" class=\"data row29 col2\" >1185</td>\n",
       "      <td id=\"T_54bf8_row29_col3\" class=\"data row29 col3\" >91.956313</td>\n",
       "      <td id=\"T_54bf8_row29_col4\" class=\"data row29 col4\" >1.698462</td>\n",
       "    </tr>\n",
       "    <tr>\n",
       "      <th id=\"T_54bf8_level0_row30\" class=\"row_heading level0 row30\" >Chandigarh</th>\n",
       "      <td id=\"T_54bf8_row30_col0\" class=\"data row30 col0\" >61992</td>\n",
       "      <td id=\"T_54bf8_row30_col1\" class=\"data row30 col1\" >61150</td>\n",
       "      <td id=\"T_54bf8_row30_col2\" class=\"data row30 col2\" >811</td>\n",
       "      <td id=\"T_54bf8_row30_col3\" class=\"data row30 col3\" >98.641760</td>\n",
       "      <td id=\"T_54bf8_row30_col4\" class=\"data row30 col4\" >1.308233</td>\n",
       "    </tr>\n",
       "    <tr>\n",
       "      <th id=\"T_54bf8_level0_row31\" class=\"row_heading level0 row31\" >Arunachal Pradesh</th>\n",
       "      <td id=\"T_54bf8_row31_col0\" class=\"data row31 col0\" >50605</td>\n",
       "      <td id=\"T_54bf8_row31_col1\" class=\"data row31 col1\" >47821</td>\n",
       "      <td id=\"T_54bf8_row31_col2\" class=\"data row31 col2\" >248</td>\n",
       "      <td id=\"T_54bf8_row31_col3\" class=\"data row31 col3\" >94.498567</td>\n",
       "      <td id=\"T_54bf8_row31_col4\" class=\"data row31 col4\" >0.490070</td>\n",
       "    </tr>\n",
       "    <tr>\n",
       "      <th id=\"T_54bf8_level0_row32\" class=\"row_heading level0 row32\" >Mizoram</th>\n",
       "      <td id=\"T_54bf8_row32_col0\" class=\"data row32 col0\" >46320</td>\n",
       "      <td id=\"T_54bf8_row32_col1\" class=\"data row32 col1\" >33722</td>\n",
       "      <td id=\"T_54bf8_row32_col2\" class=\"data row32 col2\" >171</td>\n",
       "      <td id=\"T_54bf8_row32_col3\" class=\"data row32 col3\" >72.802245</td>\n",
       "      <td id=\"T_54bf8_row32_col4\" class=\"data row32 col4\" >0.369171</td>\n",
       "    </tr>\n",
       "    <tr>\n",
       "      <th id=\"T_54bf8_level0_row33\" class=\"row_heading level0 row33\" >Nagaland</th>\n",
       "      <td id=\"T_54bf8_row33_col0\" class=\"data row33 col0\" >28811</td>\n",
       "      <td id=\"T_54bf8_row33_col1\" class=\"data row33 col1\" >26852</td>\n",
       "      <td id=\"T_54bf8_row33_col2\" class=\"data row33 col2\" >585</td>\n",
       "      <td id=\"T_54bf8_row33_col3\" class=\"data row33 col3\" >93.200514</td>\n",
       "      <td id=\"T_54bf8_row33_col4\" class=\"data row33 col4\" >2.030474</td>\n",
       "    </tr>\n",
       "    <tr>\n",
       "      <th id=\"T_54bf8_level0_row34\" class=\"row_heading level0 row34\" >Sikkim</th>\n",
       "      <td id=\"T_54bf8_row34_col0\" class=\"data row34 col0\" >28018</td>\n",
       "      <td id=\"T_54bf8_row34_col1\" class=\"data row34 col1\" >25095</td>\n",
       "      <td id=\"T_54bf8_row34_col2\" class=\"data row34 col2\" >356</td>\n",
       "      <td id=\"T_54bf8_row34_col3\" class=\"data row34 col3\" >89.567421</td>\n",
       "      <td id=\"T_54bf8_row34_col4\" class=\"data row34 col4\" >1.270612</td>\n",
       "    </tr>\n",
       "    <tr>\n",
       "      <th id=\"T_54bf8_level0_row35\" class=\"row_heading level0 row35\" >Ladakh</th>\n",
       "      <td id=\"T_54bf8_row35_col0\" class=\"data row35 col0\" >20411</td>\n",
       "      <td id=\"T_54bf8_row35_col1\" class=\"data row35 col1\" >20130</td>\n",
       "      <td id=\"T_54bf8_row35_col2\" class=\"data row35 col2\" >207</td>\n",
       "      <td id=\"T_54bf8_row35_col3\" class=\"data row35 col3\" >98.623291</td>\n",
       "      <td id=\"T_54bf8_row35_col4\" class=\"data row35 col4\" >1.014159</td>\n",
       "    </tr>\n",
       "    <tr>\n",
       "      <th id=\"T_54bf8_level0_row36\" class=\"row_heading level0 row36\" >Dadra and Nagar Haveli and Daman and Diu</th>\n",
       "      <td id=\"T_54bf8_row36_col0\" class=\"data row36 col0\" >10654</td>\n",
       "      <td id=\"T_54bf8_row36_col1\" class=\"data row36 col1\" >10646</td>\n",
       "      <td id=\"T_54bf8_row36_col2\" class=\"data row36 col2\" >4</td>\n",
       "      <td id=\"T_54bf8_row36_col3\" class=\"data row36 col3\" >99.924911</td>\n",
       "      <td id=\"T_54bf8_row36_col4\" class=\"data row36 col4\" >0.037545</td>\n",
       "    </tr>\n",
       "    <tr>\n",
       "      <th id=\"T_54bf8_level0_row37\" class=\"row_heading level0 row37\" >Lakshadweep</th>\n",
       "      <td id=\"T_54bf8_row37_col0\" class=\"data row37 col0\" >10263</td>\n",
       "      <td id=\"T_54bf8_row37_col1\" class=\"data row37 col1\" >10165</td>\n",
       "      <td id=\"T_54bf8_row37_col2\" class=\"data row37 col2\" >51</td>\n",
       "      <td id=\"T_54bf8_row37_col3\" class=\"data row37 col3\" >99.045114</td>\n",
       "      <td id=\"T_54bf8_row37_col4\" class=\"data row37 col4\" >0.496931</td>\n",
       "    </tr>\n",
       "    <tr>\n",
       "      <th id=\"T_54bf8_level0_row38\" class=\"row_heading level0 row38\" >Cases being reassigned to states</th>\n",
       "      <td id=\"T_54bf8_row38_col0\" class=\"data row38 col0\" >9265</td>\n",
       "      <td id=\"T_54bf8_row38_col1\" class=\"data row38 col1\" >0</td>\n",
       "      <td id=\"T_54bf8_row38_col2\" class=\"data row38 col2\" >0</td>\n",
       "      <td id=\"T_54bf8_row38_col3\" class=\"data row38 col3\" >0.000000</td>\n",
       "      <td id=\"T_54bf8_row38_col4\" class=\"data row38 col4\" >0.000000</td>\n",
       "    </tr>\n",
       "    <tr>\n",
       "      <th id=\"T_54bf8_level0_row39\" class=\"row_heading level0 row39\" >Andaman and Nicobar Islands</th>\n",
       "      <td id=\"T_54bf8_row39_col0\" class=\"data row39 col0\" >7548</td>\n",
       "      <td id=\"T_54bf8_row39_col1\" class=\"data row39 col1\" >7412</td>\n",
       "      <td id=\"T_54bf8_row39_col2\" class=\"data row39 col2\" >129</td>\n",
       "      <td id=\"T_54bf8_row39_col3\" class=\"data row39 col3\" >98.198198</td>\n",
       "      <td id=\"T_54bf8_row39_col4\" class=\"data row39 col4\" >1.709062</td>\n",
       "    </tr>\n",
       "    <tr>\n",
       "      <th id=\"T_54bf8_level0_row40\" class=\"row_heading level0 row40\" >Unassigned</th>\n",
       "      <td id=\"T_54bf8_row40_col0\" class=\"data row40 col0\" >77</td>\n",
       "      <td id=\"T_54bf8_row40_col1\" class=\"data row40 col1\" >0</td>\n",
       "      <td id=\"T_54bf8_row40_col2\" class=\"data row40 col2\" >0</td>\n",
       "      <td id=\"T_54bf8_row40_col3\" class=\"data row40 col3\" >0.000000</td>\n",
       "      <td id=\"T_54bf8_row40_col4\" class=\"data row40 col4\" >0.000000</td>\n",
       "    </tr>\n",
       "    <tr>\n",
       "      <th id=\"T_54bf8_level0_row41\" class=\"row_heading level0 row41\" >Daman & Diu</th>\n",
       "      <td id=\"T_54bf8_row41_col0\" class=\"data row41 col0\" >2</td>\n",
       "      <td id=\"T_54bf8_row41_col1\" class=\"data row41 col1\" >0</td>\n",
       "      <td id=\"T_54bf8_row41_col2\" class=\"data row41 col2\" >0</td>\n",
       "      <td id=\"T_54bf8_row41_col3\" class=\"data row41 col3\" >0.000000</td>\n",
       "      <td id=\"T_54bf8_row41_col4\" class=\"data row41 col4\" >0.000000</td>\n",
       "    </tr>\n",
       "  </tbody>\n",
       "</table>\n"
      ],
      "text/plain": [
       "<pandas.io.formats.style.Styler at 0x200d7a7af20>"
      ]
     },
     "execution_count": 35,
     "metadata": {},
     "output_type": "execute_result"
    }
   ],
   "source": [
    "#Finding recovery rate and deathrate\n",
    "statewise['Recovary_rate']=statewise['Cured']*100/statewise['Confirmed']\n",
    "statewise['Deathrate'] = statewise['Deaths']*100/statewise['Confirmed']\n",
    "statewise=statewise.sort_values(by='Confirmed',ascending=False)\n",
    "statewise.style.background_gradient(cmap='cubehelix')"
   ]
  },
  {
   "cell_type": "code",
   "execution_count": 36,
   "metadata": {},
   "outputs": [],
   "source": [
    "#top active case\n",
    "top10_active_case=covid_19.groupby(by='State/UnionTerritory').max()[['Active_case','Date']].sort_values(by=['Active_case'],ascending=False).reset_index()"
   ]
  },
  {
   "cell_type": "code",
   "execution_count": 37,
   "metadata": {},
   "outputs": [
    {
     "data": {
      "text/plain": [
       "<Figure size 1000x600 with 0 Axes>"
      ]
     },
     "metadata": {},
     "output_type": "display_data"
    }
   ],
   "source": [
    "fig=plt.figure(figsize=(10,6))"
   ]
  },
  {
   "cell_type": "code",
   "execution_count": 38,
   "metadata": {},
   "outputs": [
    {
     "data": {
      "text/plain": [
       "Text(0.5, 1.0, 'top 10 state with most  active case ')"
      ]
     },
     "execution_count": 38,
     "metadata": {},
     "output_type": "execute_result"
    },
    {
     "data": {
      "image/png": "[encoded data removed]",
      "text/plain": [
       "<Figure size 640x480 with 1 Axes>"
      ]
     },
     "metadata": {},
     "output_type": "display_data"
    }
   ],
   "source": [
    "plt.title(\"top 10 state with most  active case \")"
   ]
  },
  {
   "cell_type": "code",
   "execution_count": 39,
   "metadata": {},
   "outputs": [
    {
     "data": {
      "image/png": "[encoded data removed]",
      "text/plain": [
       "<Figure size 640x480 with 1 Axes>"
      ]
     },
     "metadata": {},
     "output_type": "display_data"
    }
   ],
   "source": [
    "ax=sns.barplot(data=top10_active_case.iloc[:10],y=\"Active_case\",x=\"State/UnionTerritory\",linewidth=2,edgecolor='red')"
   ]
  },
  {
   "cell_type": "code",
   "execution_count": 40,
   "metadata": {},
   "outputs": [
    {
     "data": {
      "image/png": "[encoded data removed]",
      "text/plain": [
       "<Figure size 1600x900 with 1 Axes>"
      ]
     },
     "metadata": {},
     "output_type": "display_data"
    }
   ],
   "source": [
    "# top 10 state active case\n",
    "top_10_active_case=covid_19.groupby(by='State/UnionTerritory').max()[['Active_case','Date']].sort_values(by=['Active_case'],ascending=False).reset_index()\n",
    "fig=plt.figure(figsize=(16,9))\n",
    "plt.title(\"top 10 state with most  active case \")\n",
    "ax=sns.barplot(data= top_10_active_case.iloc[:10],y=\"Active_case\",x=\"State/UnionTerritory\",linewidth=2,edgecolor='red')\n",
    "plt.xlabel('State')\n",
    "plt.ylabel(\"Total Active_case\")\n",
    "plt.show()"
   ]
  },
  {
   "cell_type": "code",
   "execution_count": 41,
   "metadata": {},
   "outputs": [
    {
     "data": {
      "image/png": "[encoded data removed]",
      "text/plain": [
       "<Figure size 1600x900 with 1 Axes>"
      ]
     },
     "metadata": {},
     "output_type": "display_data"
    }
   ],
   "source": [
    "top_10_Deaths_case=covid_19.groupby(by='State/UnionTerritory').max()[['Deaths','Date']].sort_values(by=['Deaths'],ascending=False).reset_index()\n",
    "plt.figure(figsize=(16,9))\n",
    "ax=sns.barplot(data=top_10_Deaths_case.iloc[:10],y='Deaths',x='State/UnionTerritory',linewidth=2,edgecolor=\"red\")\n",
    "plt.title(\"Top 10 State where most death occur\")\n",
    "plt.xlabel(\"STATE\")\n",
    "plt.ylabel(\"Total Death\")\n",
    "plt.show()"
   ]
  },
  {
   "cell_type": "code",
   "execution_count": 42,
   "metadata": {},
   "outputs": [
    {
     "data": {
      "text/plain": [
       "Text(0.5, 1.0, 'top 5 affected state')"
      ]
     },
     "execution_count": 42,
     "metadata": {},
     "output_type": "execute_result"
    },
    {
     "data": {
      "image/png": "[encoded data removed]",
      "text/plain": [
       "<Figure size 2000x1000 with 1 Axes>"
      ]
     },
     "metadata": {},
     "output_type": "display_data"
    }
   ],
   "source": [
    "plt.figure(figsize=(20,10))\n",
    "#ax=sns.lineplot(data=covid_19[covid_19['State/UnionTerritory'].isin(['Maharashtra','Kerala','Karnataka','Tamil Nadu','Delhi'])], X='Date',y='Active_case',hue='State/UnionTerritory')\n",
    "import seaborn as sns\n",
    "\n",
    "ax = sns.lineplot(data=covid_19[covid_19['State/UnionTerritory'].isin(['Maharashtra','Kerala','Karnataka','Tamil Nadu','Delhi'])], x='Date', y='Active_case', hue='State/UnionTerritory')\n",
    "ax.set_title(\"top 5 affected state\")"
   ]
  },
  {
   "attachments": {},
   "cell_type": "markdown",
   "metadata": {},
   "source": [
    "Most affected areas are done.\n",
    "Now, analysis of vaccination in each states are done.\n",
    "For that we will import one new csv file called covid_vaccine_statewise.csv "
   ]
  },
  {
   "cell_type": "code",
   "execution_count": 43,
   "metadata": {},
   "outputs": [],
   "source": [
    "vaccine=pd.read_csv(\"covid_vaccine_statewise.csv\")"
   ]
  },
  {
   "cell_type": "code",
   "execution_count": 44,
   "metadata": {},
   "outputs": [
    {
     "data": {
      "text/html": [
       "<div>\n",
       "<style scoped>\n",
       "    .dataframe tbody tr th:only-of-type {\n",
       "        vertical-align: middle;\n",
       "    }\n",
       "\n",
       "    .dataframe tbody tr th {\n",
       "        vertical-align: top;\n",
       "    }\n",
       "\n",
       "    .dataframe thead th {\n",
       "        text-align: right;\n",
       "    }\n",
       "</style>\n",
       "<table border=\"1\" class=\"dataframe\">\n",
       "  <thead>\n",
       "    <tr style=\"text-align: right;\">\n",
       "      <th></th>\n",
       "      <th>Updated On</th>\n",
       "      <th>State</th>\n",
       "      <th>Total Doses Administered</th>\n",
       "      <th>Sessions</th>\n",
       "      <th>Sites</th>\n",
       "      <th>First Dose Administered</th>\n",
       "      <th>Second Dose Administered</th>\n",
       "      <th>Male (Doses Administered)</th>\n",
       "      <th>Female (Doses Administered)</th>\n",
       "      <th>Transgender (Doses Administered)</th>\n",
       "      <th>...</th>\n",
       "      <th>18-44 Years (Doses Administered)</th>\n",
       "      <th>45-60 Years (Doses Administered)</th>\n",
       "      <th>60+ Years (Doses Administered)</th>\n",
       "      <th>18-44 Years(Individuals Vaccinated)</th>\n",
       "      <th>45-60 Years(Individuals Vaccinated)</th>\n",
       "      <th>60+ Years(Individuals Vaccinated)</th>\n",
       "      <th>Male(Individuals Vaccinated)</th>\n",
       "      <th>Female(Individuals Vaccinated)</th>\n",
       "      <th>Transgender(Individuals Vaccinated)</th>\n",
       "      <th>Total Individuals Vaccinated</th>\n",
       "    </tr>\n",
       "  </thead>\n",
       "  <tbody>\n",
       "    <tr>\n",
       "      <th>0</th>\n",
       "      <td>16/01/2021</td>\n",
       "      <td>India</td>\n",
       "      <td>48276.0</td>\n",
       "      <td>3455.0</td>\n",
       "      <td>2957.0</td>\n",
       "      <td>48276.0</td>\n",
       "      <td>0.0</td>\n",
       "      <td>NaN</td>\n",
       "      <td>NaN</td>\n",
       "      <td>NaN</td>\n",
       "      <td>...</td>\n",
       "      <td>NaN</td>\n",
       "      <td>NaN</td>\n",
       "      <td>NaN</td>\n",
       "      <td>NaN</td>\n",
       "      <td>NaN</td>\n",
       "      <td>NaN</td>\n",
       "      <td>23757.0</td>\n",
       "      <td>24517.0</td>\n",
       "      <td>2.0</td>\n",
       "      <td>48276.0</td>\n",
       "    </tr>\n",
       "    <tr>\n",
       "      <th>1</th>\n",
       "      <td>17/01/2021</td>\n",
       "      <td>India</td>\n",
       "      <td>58604.0</td>\n",
       "      <td>8532.0</td>\n",
       "      <td>4954.0</td>\n",
       "      <td>58604.0</td>\n",
       "      <td>0.0</td>\n",
       "      <td>NaN</td>\n",
       "      <td>NaN</td>\n",
       "      <td>NaN</td>\n",
       "      <td>...</td>\n",
       "      <td>NaN</td>\n",
       "      <td>NaN</td>\n",
       "      <td>NaN</td>\n",
       "      <td>NaN</td>\n",
       "      <td>NaN</td>\n",
       "      <td>NaN</td>\n",
       "      <td>27348.0</td>\n",
       "      <td>31252.0</td>\n",
       "      <td>4.0</td>\n",
       "      <td>58604.0</td>\n",
       "    </tr>\n",
       "    <tr>\n",
       "      <th>2</th>\n",
       "      <td>18/01/2021</td>\n",
       "      <td>India</td>\n",
       "      <td>99449.0</td>\n",
       "      <td>13611.0</td>\n",
       "      <td>6583.0</td>\n",
       "      <td>99449.0</td>\n",
       "      <td>0.0</td>\n",
       "      <td>NaN</td>\n",
       "      <td>NaN</td>\n",
       "      <td>NaN</td>\n",
       "      <td>...</td>\n",
       "      <td>NaN</td>\n",
       "      <td>NaN</td>\n",
       "      <td>NaN</td>\n",
       "      <td>NaN</td>\n",
       "      <td>NaN</td>\n",
       "      <td>NaN</td>\n",
       "      <td>41361.0</td>\n",
       "      <td>58083.0</td>\n",
       "      <td>5.0</td>\n",
       "      <td>99449.0</td>\n",
       "    </tr>\n",
       "    <tr>\n",
       "      <th>3</th>\n",
       "      <td>19/01/2021</td>\n",
       "      <td>India</td>\n",
       "      <td>195525.0</td>\n",
       "      <td>17855.0</td>\n",
       "      <td>7951.0</td>\n",
       "      <td>195525.0</td>\n",
       "      <td>0.0</td>\n",
       "      <td>NaN</td>\n",
       "      <td>NaN</td>\n",
       "      <td>NaN</td>\n",
       "      <td>...</td>\n",
       "      <td>NaN</td>\n",
       "      <td>NaN</td>\n",
       "      <td>NaN</td>\n",
       "      <td>NaN</td>\n",
       "      <td>NaN</td>\n",
       "      <td>NaN</td>\n",
       "      <td>81901.0</td>\n",
       "      <td>113613.0</td>\n",
       "      <td>11.0</td>\n",
       "      <td>195525.0</td>\n",
       "    </tr>\n",
       "    <tr>\n",
       "      <th>4</th>\n",
       "      <td>20/01/2021</td>\n",
       "      <td>India</td>\n",
       "      <td>251280.0</td>\n",
       "      <td>25472.0</td>\n",
       "      <td>10504.0</td>\n",
       "      <td>251280.0</td>\n",
       "      <td>0.0</td>\n",
       "      <td>NaN</td>\n",
       "      <td>NaN</td>\n",
       "      <td>NaN</td>\n",
       "      <td>...</td>\n",
       "      <td>NaN</td>\n",
       "      <td>NaN</td>\n",
       "      <td>NaN</td>\n",
       "      <td>NaN</td>\n",
       "      <td>NaN</td>\n",
       "      <td>NaN</td>\n",
       "      <td>98111.0</td>\n",
       "      <td>153145.0</td>\n",
       "      <td>24.0</td>\n",
       "      <td>251280.0</td>\n",
       "    </tr>\n",
       "  </tbody>\n",
       "</table>\n",
       "<p>5 rows × 24 columns</p>\n",
       "</div>"
      ],
      "text/plain": [
       "   Updated On  State  Total Doses Administered  Sessions   Sites   \\\n",
       "0  16/01/2021  India                   48276.0    3455.0   2957.0   \n",
       "1  17/01/2021  India                   58604.0    8532.0   4954.0   \n",
       "2  18/01/2021  India                   99449.0   13611.0   6583.0   \n",
       "3  19/01/2021  India                  195525.0   17855.0   7951.0   \n",
       "4  20/01/2021  India                  251280.0   25472.0  10504.0   \n",
       "\n",
       "   First Dose Administered  Second Dose Administered  \\\n",
       "0                  48276.0                       0.0   \n",
       "1                  58604.0                       0.0   \n",
       "2                  99449.0                       0.0   \n",
       "3                 195525.0                       0.0   \n",
       "4                 251280.0                       0.0   \n",
       "\n",
       "   Male (Doses Administered)  Female (Doses Administered)  \\\n",
       "0                        NaN                          NaN   \n",
       "1                        NaN                          NaN   \n",
       "2                        NaN                          NaN   \n",
       "3                        NaN                          NaN   \n",
       "4                        NaN                          NaN   \n",
       "\n",
       "   Transgender (Doses Administered)  ...  18-44 Years (Doses Administered)  \\\n",
       "0                               NaN  ...                               NaN   \n",
       "1                               NaN  ...                               NaN   \n",
       "2                               NaN  ...                               NaN   \n",
       "3                               NaN  ...                               NaN   \n",
       "4                               NaN  ...                               NaN   \n",
       "\n",
       "   45-60 Years (Doses Administered)  60+ Years (Doses Administered)  \\\n",
       "0                               NaN                             NaN   \n",
       "1                               NaN                             NaN   \n",
       "2                               NaN                             NaN   \n",
       "3                               NaN                             NaN   \n",
       "4                               NaN                             NaN   \n",
       "\n",
       "   18-44 Years(Individuals Vaccinated)  45-60 Years(Individuals Vaccinated)  \\\n",
       "0                                  NaN                                  NaN   \n",
       "1                                  NaN                                  NaN   \n",
       "2                                  NaN                                  NaN   \n",
       "3                                  NaN                                  NaN   \n",
       "4                                  NaN                                  NaN   \n",
       "\n",
       "   60+ Years(Individuals Vaccinated)  Male(Individuals Vaccinated)  \\\n",
       "0                                NaN                       23757.0   \n",
       "1                                NaN                       27348.0   \n",
       "2                                NaN                       41361.0   \n",
       "3                                NaN                       81901.0   \n",
       "4                                NaN                       98111.0   \n",
       "\n",
       "   Female(Individuals Vaccinated)  Transgender(Individuals Vaccinated)  \\\n",
       "0                         24517.0                                  2.0   \n",
       "1                         31252.0                                  4.0   \n",
       "2                         58083.0                                  5.0   \n",
       "3                        113613.0                                 11.0   \n",
       "4                        153145.0                                 24.0   \n",
       "\n",
       "   Total Individuals Vaccinated  \n",
       "0                       48276.0  \n",
       "1                       58604.0  \n",
       "2                       99449.0  \n",
       "3                      195525.0  \n",
       "4                      251280.0  \n",
       "\n",
       "[5 rows x 24 columns]"
      ]
     },
     "execution_count": 44,
     "metadata": {},
     "output_type": "execute_result"
    }
   ],
   "source": [
    "vaccine.head()"
   ]
  },
  {
   "attachments": {},
   "cell_type": "markdown",
   "metadata": {},
   "source": [
    "Same pattern will be followed as above and also same finctions will be used."
   ]
  },
  {
   "cell_type": "code",
   "execution_count": 45,
   "metadata": {},
   "outputs": [
    {
     "data": {
      "text/plain": [
       "(7845, 24)"
      ]
     },
     "execution_count": 45,
     "metadata": {},
     "output_type": "execute_result"
    }
   ],
   "source": [
    "vaccine.shape"
   ]
  },
  {
   "cell_type": "code",
   "execution_count": 46,
   "metadata": {},
   "outputs": [
    {
     "data": {
      "text/plain": [
       "Updated On                                0\n",
       "State                                     0\n",
       "Total Doses Administered                224\n",
       "Sessions                                224\n",
       " Sites                                  224\n",
       "First Dose Administered                 224\n",
       "Second Dose Administered                224\n",
       "Male (Doses Administered)               384\n",
       "Female (Doses Administered)             384\n",
       "Transgender (Doses Administered)        384\n",
       " Covaxin (Doses Administered)           224\n",
       "CoviShield (Doses Administered)         224\n",
       "Sputnik V (Doses Administered)         4850\n",
       "AEFI                                   2407\n",
       "18-44 Years (Doses Administered)       6143\n",
       "45-60 Years (Doses Administered)       6143\n",
       "60+ Years (Doses Administered)         6143\n",
       "18-44 Years(Individuals Vaccinated)    4112\n",
       "45-60 Years(Individuals Vaccinated)    4111\n",
       "60+ Years(Individuals Vaccinated)      4111\n",
       "Male(Individuals Vaccinated)           7685\n",
       "Female(Individuals Vaccinated)         7685\n",
       "Transgender(Individuals Vaccinated)    7685\n",
       "Total Individuals Vaccinated           1926\n",
       "dtype: int64"
      ]
     },
     "execution_count": 46,
     "metadata": {},
     "output_type": "execute_result"
    }
   ],
   "source": [
    "vaccine.isnull().sum()"
   ]
  },
  {
   "cell_type": "code",
   "execution_count": 47,
   "metadata": {},
   "outputs": [],
   "source": [
    "vaccine.rename(columns={ 'Updated On':'Vaccine_Date'}, inplace=True)\n",
    "\n",
    "#student_df_1.rename(columns={\"id\": \"ID\"}, inplace=True)"
   ]
  },
  {
   "cell_type": "code",
   "execution_count": 48,
   "metadata": {},
   "outputs": [
    {
     "data": {
      "text/html": [
       "<div>\n",
       "<style scoped>\n",
       "    .dataframe tbody tr th:only-of-type {\n",
       "        vertical-align: middle;\n",
       "    }\n",
       "\n",
       "    .dataframe tbody tr th {\n",
       "        vertical-align: top;\n",
       "    }\n",
       "\n",
       "    .dataframe thead th {\n",
       "        text-align: right;\n",
       "    }\n",
       "</style>\n",
       "<table border=\"1\" class=\"dataframe\">\n",
       "  <thead>\n",
       "    <tr style=\"text-align: right;\">\n",
       "      <th></th>\n",
       "      <th>Vaccine_Date</th>\n",
       "      <th>State</th>\n",
       "      <th>Total Doses Administered</th>\n",
       "      <th>Sessions</th>\n",
       "      <th>Sites</th>\n",
       "      <th>First Dose Administered</th>\n",
       "      <th>Second Dose Administered</th>\n",
       "      <th>Male (Doses Administered)</th>\n",
       "      <th>Female (Doses Administered)</th>\n",
       "      <th>Transgender (Doses Administered)</th>\n",
       "      <th>...</th>\n",
       "      <th>18-44 Years (Doses Administered)</th>\n",
       "      <th>45-60 Years (Doses Administered)</th>\n",
       "      <th>60+ Years (Doses Administered)</th>\n",
       "      <th>18-44 Years(Individuals Vaccinated)</th>\n",
       "      <th>45-60 Years(Individuals Vaccinated)</th>\n",
       "      <th>60+ Years(Individuals Vaccinated)</th>\n",
       "      <th>Male(Individuals Vaccinated)</th>\n",
       "      <th>Female(Individuals Vaccinated)</th>\n",
       "      <th>Transgender(Individuals Vaccinated)</th>\n",
       "      <th>Total Individuals Vaccinated</th>\n",
       "    </tr>\n",
       "  </thead>\n",
       "  <tbody>\n",
       "    <tr>\n",
       "      <th>0</th>\n",
       "      <td>16/01/2021</td>\n",
       "      <td>India</td>\n",
       "      <td>48276.0</td>\n",
       "      <td>3455.0</td>\n",
       "      <td>2957.0</td>\n",
       "      <td>48276.0</td>\n",
       "      <td>0.0</td>\n",
       "      <td>NaN</td>\n",
       "      <td>NaN</td>\n",
       "      <td>NaN</td>\n",
       "      <td>...</td>\n",
       "      <td>NaN</td>\n",
       "      <td>NaN</td>\n",
       "      <td>NaN</td>\n",
       "      <td>NaN</td>\n",
       "      <td>NaN</td>\n",
       "      <td>NaN</td>\n",
       "      <td>23757.0</td>\n",
       "      <td>24517.0</td>\n",
       "      <td>2.0</td>\n",
       "      <td>48276.0</td>\n",
       "    </tr>\n",
       "    <tr>\n",
       "      <th>1</th>\n",
       "      <td>17/01/2021</td>\n",
       "      <td>India</td>\n",
       "      <td>58604.0</td>\n",
       "      <td>8532.0</td>\n",
       "      <td>4954.0</td>\n",
       "      <td>58604.0</td>\n",
       "      <td>0.0</td>\n",
       "      <td>NaN</td>\n",
       "      <td>NaN</td>\n",
       "      <td>NaN</td>\n",
       "      <td>...</td>\n",
       "      <td>NaN</td>\n",
       "      <td>NaN</td>\n",
       "      <td>NaN</td>\n",
       "      <td>NaN</td>\n",
       "      <td>NaN</td>\n",
       "      <td>NaN</td>\n",
       "      <td>27348.0</td>\n",
       "      <td>31252.0</td>\n",
       "      <td>4.0</td>\n",
       "      <td>58604.0</td>\n",
       "    </tr>\n",
       "    <tr>\n",
       "      <th>2</th>\n",
       "      <td>18/01/2021</td>\n",
       "      <td>India</td>\n",
       "      <td>99449.0</td>\n",
       "      <td>13611.0</td>\n",
       "      <td>6583.0</td>\n",
       "      <td>99449.0</td>\n",
       "      <td>0.0</td>\n",
       "      <td>NaN</td>\n",
       "      <td>NaN</td>\n",
       "      <td>NaN</td>\n",
       "      <td>...</td>\n",
       "      <td>NaN</td>\n",
       "      <td>NaN</td>\n",
       "      <td>NaN</td>\n",
       "      <td>NaN</td>\n",
       "      <td>NaN</td>\n",
       "      <td>NaN</td>\n",
       "      <td>41361.0</td>\n",
       "      <td>58083.0</td>\n",
       "      <td>5.0</td>\n",
       "      <td>99449.0</td>\n",
       "    </tr>\n",
       "    <tr>\n",
       "      <th>3</th>\n",
       "      <td>19/01/2021</td>\n",
       "      <td>India</td>\n",
       "      <td>195525.0</td>\n",
       "      <td>17855.0</td>\n",
       "      <td>7951.0</td>\n",
       "      <td>195525.0</td>\n",
       "      <td>0.0</td>\n",
       "      <td>NaN</td>\n",
       "      <td>NaN</td>\n",
       "      <td>NaN</td>\n",
       "      <td>...</td>\n",
       "      <td>NaN</td>\n",
       "      <td>NaN</td>\n",
       "      <td>NaN</td>\n",
       "      <td>NaN</td>\n",
       "      <td>NaN</td>\n",
       "      <td>NaN</td>\n",
       "      <td>81901.0</td>\n",
       "      <td>113613.0</td>\n",
       "      <td>11.0</td>\n",
       "      <td>195525.0</td>\n",
       "    </tr>\n",
       "    <tr>\n",
       "      <th>4</th>\n",
       "      <td>20/01/2021</td>\n",
       "      <td>India</td>\n",
       "      <td>251280.0</td>\n",
       "      <td>25472.0</td>\n",
       "      <td>10504.0</td>\n",
       "      <td>251280.0</td>\n",
       "      <td>0.0</td>\n",
       "      <td>NaN</td>\n",
       "      <td>NaN</td>\n",
       "      <td>NaN</td>\n",
       "      <td>...</td>\n",
       "      <td>NaN</td>\n",
       "      <td>NaN</td>\n",
       "      <td>NaN</td>\n",
       "      <td>NaN</td>\n",
       "      <td>NaN</td>\n",
       "      <td>NaN</td>\n",
       "      <td>98111.0</td>\n",
       "      <td>153145.0</td>\n",
       "      <td>24.0</td>\n",
       "      <td>251280.0</td>\n",
       "    </tr>\n",
       "  </tbody>\n",
       "</table>\n",
       "<p>5 rows × 24 columns</p>\n",
       "</div>"
      ],
      "text/plain": [
       "  Vaccine_Date  State  Total Doses Administered  Sessions   Sites   \\\n",
       "0   16/01/2021  India                   48276.0    3455.0   2957.0   \n",
       "1   17/01/2021  India                   58604.0    8532.0   4954.0   \n",
       "2   18/01/2021  India                   99449.0   13611.0   6583.0   \n",
       "3   19/01/2021  India                  195525.0   17855.0   7951.0   \n",
       "4   20/01/2021  India                  251280.0   25472.0  10504.0   \n",
       "\n",
       "   First Dose Administered  Second Dose Administered  \\\n",
       "0                  48276.0                       0.0   \n",
       "1                  58604.0                       0.0   \n",
       "2                  99449.0                       0.0   \n",
       "3                 195525.0                       0.0   \n",
       "4                 251280.0                       0.0   \n",
       "\n",
       "   Male (Doses Administered)  Female (Doses Administered)  \\\n",
       "0                        NaN                          NaN   \n",
       "1                        NaN                          NaN   \n",
       "2                        NaN                          NaN   \n",
       "3                        NaN                          NaN   \n",
       "4                        NaN                          NaN   \n",
       "\n",
       "   Transgender (Doses Administered)  ...  18-44 Years (Doses Administered)  \\\n",
       "0                               NaN  ...                               NaN   \n",
       "1                               NaN  ...                               NaN   \n",
       "2                               NaN  ...                               NaN   \n",
       "3                               NaN  ...                               NaN   \n",
       "4                               NaN  ...                               NaN   \n",
       "\n",
       "   45-60 Years (Doses Administered)  60+ Years (Doses Administered)  \\\n",
       "0                               NaN                             NaN   \n",
       "1                               NaN                             NaN   \n",
       "2                               NaN                             NaN   \n",
       "3                               NaN                             NaN   \n",
       "4                               NaN                             NaN   \n",
       "\n",
       "   18-44 Years(Individuals Vaccinated)  45-60 Years(Individuals Vaccinated)  \\\n",
       "0                                  NaN                                  NaN   \n",
       "1                                  NaN                                  NaN   \n",
       "2                                  NaN                                  NaN   \n",
       "3                                  NaN                                  NaN   \n",
       "4                                  NaN                                  NaN   \n",
       "\n",
       "   60+ Years(Individuals Vaccinated)  Male(Individuals Vaccinated)  \\\n",
       "0                                NaN                       23757.0   \n",
       "1                                NaN                       27348.0   \n",
       "2                                NaN                       41361.0   \n",
       "3                                NaN                       81901.0   \n",
       "4                                NaN                       98111.0   \n",
       "\n",
       "   Female(Individuals Vaccinated)  Transgender(Individuals Vaccinated)  \\\n",
       "0                         24517.0                                  2.0   \n",
       "1                         31252.0                                  4.0   \n",
       "2                         58083.0                                  5.0   \n",
       "3                        113613.0                                 11.0   \n",
       "4                        153145.0                                 24.0   \n",
       "\n",
       "   Total Individuals Vaccinated  \n",
       "0                       48276.0  \n",
       "1                       58604.0  \n",
       "2                       99449.0  \n",
       "3                      195525.0  \n",
       "4                      251280.0  \n",
       "\n",
       "[5 rows x 24 columns]"
      ]
     },
     "execution_count": 48,
     "metadata": {},
     "output_type": "execute_result"
    }
   ],
   "source": [
    "vaccine.head()"
   ]
  },
  {
   "cell_type": "code",
   "execution_count": 49,
   "metadata": {},
   "outputs": [
    {
     "name": "stdout",
     "output_type": "stream",
     "text": [
      "<class 'pandas.core.frame.DataFrame'>\n",
      "RangeIndex: 7845 entries, 0 to 7844\n",
      "Data columns (total 24 columns):\n",
      " #   Column                               Non-Null Count  Dtype  \n",
      "---  ------                               --------------  -----  \n",
      " 0   Vaccine_Date                         7845 non-null   object \n",
      " 1   State                                7845 non-null   object \n",
      " 2   Total Doses Administered             7621 non-null   float64\n",
      " 3   Sessions                             7621 non-null   float64\n",
      " 4    Sites                               7621 non-null   float64\n",
      " 5   First Dose Administered              7621 non-null   float64\n",
      " 6   Second Dose Administered             7621 non-null   float64\n",
      " 7   Male (Doses Administered)            7461 non-null   float64\n",
      " 8   Female (Doses Administered)          7461 non-null   float64\n",
      " 9   Transgender (Doses Administered)     7461 non-null   float64\n",
      " 10   Covaxin (Doses Administered)        7621 non-null   float64\n",
      " 11  CoviShield (Doses Administered)      7621 non-null   float64\n",
      " 12  Sputnik V (Doses Administered)       2995 non-null   float64\n",
      " 13  AEFI                                 5438 non-null   float64\n",
      " 14  18-44 Years (Doses Administered)     1702 non-null   float64\n",
      " 15  45-60 Years (Doses Administered)     1702 non-null   float64\n",
      " 16  60+ Years (Doses Administered)       1702 non-null   float64\n",
      " 17  18-44 Years(Individuals Vaccinated)  3733 non-null   float64\n",
      " 18  45-60 Years(Individuals Vaccinated)  3734 non-null   float64\n",
      " 19  60+ Years(Individuals Vaccinated)    3734 non-null   float64\n",
      " 20  Male(Individuals Vaccinated)         160 non-null    float64\n",
      " 21  Female(Individuals Vaccinated)       160 non-null    float64\n",
      " 22  Transgender(Individuals Vaccinated)  160 non-null    float64\n",
      " 23  Total Individuals Vaccinated         5919 non-null   float64\n",
      "dtypes: float64(22), object(2)\n",
      "memory usage: 1.4+ MB\n"
     ]
    }
   ],
   "source": [
    "vaccine.info()"
   ]
  },
  {
   "cell_type": "code",
   "execution_count": 50,
   "metadata": {},
   "outputs": [],
   "source": [
    "vaccine.drop(['Sputnik V (Doses Administered)','AEFI','18-44 Years (Doses Administered)','45-60 Years (Doses Administered)','60+ Years (Doses Administered)'],axis=1,inplace=True)"
   ]
  },
  {
   "cell_type": "code",
   "execution_count": 51,
   "metadata": {},
   "outputs": [
    {
     "data": {
      "text/html": [
       "<div>\n",
       "<style scoped>\n",
       "    .dataframe tbody tr th:only-of-type {\n",
       "        vertical-align: middle;\n",
       "    }\n",
       "\n",
       "    .dataframe tbody tr th {\n",
       "        vertical-align: top;\n",
       "    }\n",
       "\n",
       "    .dataframe thead th {\n",
       "        text-align: right;\n",
       "    }\n",
       "</style>\n",
       "<table border=\"1\" class=\"dataframe\">\n",
       "  <thead>\n",
       "    <tr style=\"text-align: right;\">\n",
       "      <th></th>\n",
       "      <th>Vaccine_Date</th>\n",
       "      <th>State</th>\n",
       "      <th>Total Doses Administered</th>\n",
       "      <th>Sessions</th>\n",
       "      <th>Sites</th>\n",
       "      <th>First Dose Administered</th>\n",
       "      <th>Second Dose Administered</th>\n",
       "      <th>Male (Doses Administered)</th>\n",
       "      <th>Female (Doses Administered)</th>\n",
       "      <th>Transgender (Doses Administered)</th>\n",
       "      <th>Covaxin (Doses Administered)</th>\n",
       "      <th>CoviShield (Doses Administered)</th>\n",
       "      <th>18-44 Years(Individuals Vaccinated)</th>\n",
       "      <th>45-60 Years(Individuals Vaccinated)</th>\n",
       "      <th>60+ Years(Individuals Vaccinated)</th>\n",
       "      <th>Male(Individuals Vaccinated)</th>\n",
       "      <th>Female(Individuals Vaccinated)</th>\n",
       "      <th>Transgender(Individuals Vaccinated)</th>\n",
       "      <th>Total Individuals Vaccinated</th>\n",
       "    </tr>\n",
       "  </thead>\n",
       "  <tbody>\n",
       "    <tr>\n",
       "      <th>0</th>\n",
       "      <td>16/01/2021</td>\n",
       "      <td>India</td>\n",
       "      <td>48276.0</td>\n",
       "      <td>3455.0</td>\n",
       "      <td>2957.0</td>\n",
       "      <td>48276.0</td>\n",
       "      <td>0.0</td>\n",
       "      <td>NaN</td>\n",
       "      <td>NaN</td>\n",
       "      <td>NaN</td>\n",
       "      <td>579.0</td>\n",
       "      <td>47697.0</td>\n",
       "      <td>NaN</td>\n",
       "      <td>NaN</td>\n",
       "      <td>NaN</td>\n",
       "      <td>23757.0</td>\n",
       "      <td>24517.0</td>\n",
       "      <td>2.0</td>\n",
       "      <td>48276.0</td>\n",
       "    </tr>\n",
       "    <tr>\n",
       "      <th>1</th>\n",
       "      <td>17/01/2021</td>\n",
       "      <td>India</td>\n",
       "      <td>58604.0</td>\n",
       "      <td>8532.0</td>\n",
       "      <td>4954.0</td>\n",
       "      <td>58604.0</td>\n",
       "      <td>0.0</td>\n",
       "      <td>NaN</td>\n",
       "      <td>NaN</td>\n",
       "      <td>NaN</td>\n",
       "      <td>635.0</td>\n",
       "      <td>57969.0</td>\n",
       "      <td>NaN</td>\n",
       "      <td>NaN</td>\n",
       "      <td>NaN</td>\n",
       "      <td>27348.0</td>\n",
       "      <td>31252.0</td>\n",
       "      <td>4.0</td>\n",
       "      <td>58604.0</td>\n",
       "    </tr>\n",
       "    <tr>\n",
       "      <th>2</th>\n",
       "      <td>18/01/2021</td>\n",
       "      <td>India</td>\n",
       "      <td>99449.0</td>\n",
       "      <td>13611.0</td>\n",
       "      <td>6583.0</td>\n",
       "      <td>99449.0</td>\n",
       "      <td>0.0</td>\n",
       "      <td>NaN</td>\n",
       "      <td>NaN</td>\n",
       "      <td>NaN</td>\n",
       "      <td>1299.0</td>\n",
       "      <td>98150.0</td>\n",
       "      <td>NaN</td>\n",
       "      <td>NaN</td>\n",
       "      <td>NaN</td>\n",
       "      <td>41361.0</td>\n",
       "      <td>58083.0</td>\n",
       "      <td>5.0</td>\n",
       "      <td>99449.0</td>\n",
       "    </tr>\n",
       "    <tr>\n",
       "      <th>3</th>\n",
       "      <td>19/01/2021</td>\n",
       "      <td>India</td>\n",
       "      <td>195525.0</td>\n",
       "      <td>17855.0</td>\n",
       "      <td>7951.0</td>\n",
       "      <td>195525.0</td>\n",
       "      <td>0.0</td>\n",
       "      <td>NaN</td>\n",
       "      <td>NaN</td>\n",
       "      <td>NaN</td>\n",
       "      <td>3017.0</td>\n",
       "      <td>192508.0</td>\n",
       "      <td>NaN</td>\n",
       "      <td>NaN</td>\n",
       "      <td>NaN</td>\n",
       "      <td>81901.0</td>\n",
       "      <td>113613.0</td>\n",
       "      <td>11.0</td>\n",
       "      <td>195525.0</td>\n",
       "    </tr>\n",
       "    <tr>\n",
       "      <th>4</th>\n",
       "      <td>20/01/2021</td>\n",
       "      <td>India</td>\n",
       "      <td>251280.0</td>\n",
       "      <td>25472.0</td>\n",
       "      <td>10504.0</td>\n",
       "      <td>251280.0</td>\n",
       "      <td>0.0</td>\n",
       "      <td>NaN</td>\n",
       "      <td>NaN</td>\n",
       "      <td>NaN</td>\n",
       "      <td>3946.0</td>\n",
       "      <td>247334.0</td>\n",
       "      <td>NaN</td>\n",
       "      <td>NaN</td>\n",
       "      <td>NaN</td>\n",
       "      <td>98111.0</td>\n",
       "      <td>153145.0</td>\n",
       "      <td>24.0</td>\n",
       "      <td>251280.0</td>\n",
       "    </tr>\n",
       "  </tbody>\n",
       "</table>\n",
       "</div>"
      ],
      "text/plain": [
       "  Vaccine_Date  State  Total Doses Administered  Sessions   Sites   \\\n",
       "0   16/01/2021  India                   48276.0    3455.0   2957.0   \n",
       "1   17/01/2021  India                   58604.0    8532.0   4954.0   \n",
       "2   18/01/2021  India                   99449.0   13611.0   6583.0   \n",
       "3   19/01/2021  India                  195525.0   17855.0   7951.0   \n",
       "4   20/01/2021  India                  251280.0   25472.0  10504.0   \n",
       "\n",
       "   First Dose Administered  Second Dose Administered  \\\n",
       "0                  48276.0                       0.0   \n",
       "1                  58604.0                       0.0   \n",
       "2                  99449.0                       0.0   \n",
       "3                 195525.0                       0.0   \n",
       "4                 251280.0                       0.0   \n",
       "\n",
       "   Male (Doses Administered)  Female (Doses Administered)  \\\n",
       "0                        NaN                          NaN   \n",
       "1                        NaN                          NaN   \n",
       "2                        NaN                          NaN   \n",
       "3                        NaN                          NaN   \n",
       "4                        NaN                          NaN   \n",
       "\n",
       "   Transgender (Doses Administered)   Covaxin (Doses Administered)  \\\n",
       "0                               NaN                          579.0   \n",
       "1                               NaN                          635.0   \n",
       "2                               NaN                         1299.0   \n",
       "3                               NaN                         3017.0   \n",
       "4                               NaN                         3946.0   \n",
       "\n",
       "   CoviShield (Doses Administered)  18-44 Years(Individuals Vaccinated)  \\\n",
       "0                          47697.0                                  NaN   \n",
       "1                          57969.0                                  NaN   \n",
       "2                          98150.0                                  NaN   \n",
       "3                         192508.0                                  NaN   \n",
       "4                         247334.0                                  NaN   \n",
       "\n",
       "   45-60 Years(Individuals Vaccinated)  60+ Years(Individuals Vaccinated)  \\\n",
       "0                                  NaN                                NaN   \n",
       "1                                  NaN                                NaN   \n",
       "2                                  NaN                                NaN   \n",
       "3                                  NaN                                NaN   \n",
       "4                                  NaN                                NaN   \n",
       "\n",
       "   Male(Individuals Vaccinated)  Female(Individuals Vaccinated)  \\\n",
       "0                       23757.0                         24517.0   \n",
       "1                       27348.0                         31252.0   \n",
       "2                       41361.0                         58083.0   \n",
       "3                       81901.0                        113613.0   \n",
       "4                       98111.0                        153145.0   \n",
       "\n",
       "   Transgender(Individuals Vaccinated)  Total Individuals Vaccinated  \n",
       "0                                  2.0                       48276.0  \n",
       "1                                  4.0                       58604.0  \n",
       "2                                  5.0                       99449.0  \n",
       "3                                 11.0                      195525.0  \n",
       "4                                 24.0                      251280.0  "
      ]
     },
     "execution_count": 51,
     "metadata": {},
     "output_type": "execute_result"
    }
   ],
   "source": [
    "vaccine.head()"
   ]
  },
  {
   "cell_type": "code",
   "execution_count": 52,
   "metadata": {},
   "outputs": [
    {
     "data": {
      "text/plain": [
       "(7138698858.0, 6321628736.0)"
      ]
     },
     "execution_count": 52,
     "metadata": {},
     "output_type": "execute_result"
    }
   ],
   "source": [
    "#male vs female\n",
    "male=vaccine['Male(Individuals Vaccinated)'].sum()\n",
    "female=vaccine['Female(Individuals Vaccinated)'].sum()\n",
    "male,female"
   ]
  },
  {
   "cell_type": "code",
   "execution_count": 55,
   "metadata": {},
   "outputs": [],
   "source": [
    "import plotly.express as px\n",
    "from plotly.subplots import make_subplots"
   ]
  },
  {
   "cell_type": "code",
   "execution_count": 56,
   "metadata": {},
   "outputs": [
    {
     "ename": "ValueError",
     "evalue": "Mime type rendering requires nbformat>=4.2.0 but it is not installed",
     "output_type": "error",
     "traceback": [
      "\u001b[1;31m---------------------------------------------------------------------------\u001b[0m",
      "\u001b[1;31mValueError\u001b[0m                                Traceback (most recent call last)",
      "File \u001b[1;32m~\\AppData\\Local\\Packages\\PythonSoftwareFoundation.Python.3.10_qbz5n2kfra8p0\\LocalCache\\local-packages\\Python310\\site-packages\\IPython\\core\\formatters.py:922\u001b[0m, in \u001b[0;36mIPythonDisplayFormatter.__call__\u001b[1;34m(self, obj)\u001b[0m\n\u001b[0;32m    920\u001b[0m method \u001b[39m=\u001b[39m get_real_method(obj, \u001b[39mself\u001b[39m\u001b[39m.\u001b[39mprint_method)\n\u001b[0;32m    921\u001b[0m \u001b[39mif\u001b[39;00m method \u001b[39mis\u001b[39;00m \u001b[39mnot\u001b[39;00m \u001b[39mNone\u001b[39;00m:\n\u001b[1;32m--> 922\u001b[0m     method()\n\u001b[0;32m    923\u001b[0m     \u001b[39mreturn\u001b[39;00m \u001b[39mTrue\u001b[39;00m\n",
      "File \u001b[1;32m~\\AppData\\Local\\Packages\\PythonSoftwareFoundation.Python.3.10_qbz5n2kfra8p0\\LocalCache\\local-packages\\Python310\\site-packages\\plotly\\basedatatypes.py:834\u001b[0m, in \u001b[0;36mBaseFigure._ipython_display_\u001b[1;34m(self)\u001b[0m\n\u001b[0;32m    831\u001b[0m \u001b[39mimport\u001b[39;00m \u001b[39mplotly\u001b[39;00m\u001b[39m.\u001b[39;00m\u001b[39mio\u001b[39;00m \u001b[39mas\u001b[39;00m \u001b[39mpio\u001b[39;00m\n\u001b[0;32m    833\u001b[0m \u001b[39mif\u001b[39;00m pio\u001b[39m.\u001b[39mrenderers\u001b[39m.\u001b[39mrender_on_display \u001b[39mand\u001b[39;00m pio\u001b[39m.\u001b[39mrenderers\u001b[39m.\u001b[39mdefault:\n\u001b[1;32m--> 834\u001b[0m     pio\u001b[39m.\u001b[39;49mshow(\u001b[39mself\u001b[39;49m)\n\u001b[0;32m    835\u001b[0m \u001b[39melse\u001b[39;00m:\n\u001b[0;32m    836\u001b[0m     \u001b[39mprint\u001b[39m(\u001b[39mrepr\u001b[39m(\u001b[39mself\u001b[39m))\n",
      "File \u001b[1;32m~\\AppData\\Local\\Packages\\PythonSoftwareFoundation.Python.3.10_qbz5n2kfra8p0\\LocalCache\\local-packages\\Python310\\site-packages\\plotly\\io\\_renderers.py:396\u001b[0m, in \u001b[0;36mshow\u001b[1;34m(fig, renderer, validate, **kwargs)\u001b[0m\n\u001b[0;32m    391\u001b[0m         \u001b[39mraise\u001b[39;00m \u001b[39mValueError\u001b[39;00m(\n\u001b[0;32m    392\u001b[0m             \u001b[39m\"\u001b[39m\u001b[39mMime type rendering requires ipython but it is not installed\u001b[39m\u001b[39m\"\u001b[39m\n\u001b[0;32m    393\u001b[0m         )\n\u001b[0;32m    395\u001b[0m     \u001b[39mif\u001b[39;00m \u001b[39mnot\u001b[39;00m nbformat \u001b[39mor\u001b[39;00m Version(nbformat\u001b[39m.\u001b[39m__version__) \u001b[39m<\u001b[39m Version(\u001b[39m\"\u001b[39m\u001b[39m4.2.0\u001b[39m\u001b[39m\"\u001b[39m):\n\u001b[1;32m--> 396\u001b[0m         \u001b[39mraise\u001b[39;00m \u001b[39mValueError\u001b[39;00m(\n\u001b[0;32m    397\u001b[0m             \u001b[39m\"\u001b[39m\u001b[39mMime type rendering requires nbformat>=4.2.0 but it is not installed\u001b[39m\u001b[39m\"\u001b[39m\n\u001b[0;32m    398\u001b[0m         )\n\u001b[0;32m    400\u001b[0m     ipython_display\u001b[39m.\u001b[39mdisplay(bundle, raw\u001b[39m=\u001b[39m\u001b[39mTrue\u001b[39;00m)\n\u001b[0;32m    402\u001b[0m \u001b[39m# external renderers\u001b[39;00m\n",
      "\u001b[1;31mValueError\u001b[0m: Mime type rendering requires nbformat>=4.2.0 but it is not installed"
     ]
    },
    {
     "data": {
      "application/vnd.plotly.v1+json": {
       "config": {
        "plotlyServerURL": "https://plot.ly"
       },
       "data": [
        {
         "domain": {
          "x": [
           0,
           1
          ],
          "y": [
           0,
           1
          ]
         },
         "hovertemplate": "label=%{label}<br>value=%{value}<extra></extra>",
         "labels": [
          "male",
          "female"
         ],
         "legendgroup": "",
         "name": "",
         "showlegend": true,
         "type": "pie",
         "values": [
          7138698858,
          6321628736
         ]
        }
       ],
       "layout": {
        "legend": {
         "tracegroupgap": 0
        },
        "template": {
         "data": {
          "bar": [
           {
            "error_x": {
             "color": "#2a3f5f"
            },
            "error_y": {
             "color": "#2a3f5f"
            },
            "marker": {
             "line": {
              "color": "#E5ECF6",
              "width": 0.5
             },
             "pattern": {
              "fillmode": "overlay",
              "size": 10,
              "solidity": 0.2
             }
            },
            "type": "bar"
           }
          ],
          "barpolar": [
           {
            "marker": {
             "line": {
              "color": "#E5ECF6",
              "width": 0.5
             },
             "pattern": {
              "fillmode": "overlay",
              "size": 10,
              "solidity": 0.2
             }
            },
            "type": "barpolar"
           }
          ],
          "carpet": [
           {
            "aaxis": {
             "endlinecolor": "#2a3f5f",
             "gridcolor": "white",
             "linecolor": "white",
             "minorgridcolor": "white",
             "startlinecolor": "#2a3f5f"
            },
            "baxis": {
             "endlinecolor": "#2a3f5f",
             "gridcolor": "white",
             "linecolor": "white",
             "minorgridcolor": "white",
             "startlinecolor": "#2a3f5f"
            },
            "type": "carpet"
           }
          ],
          "choropleth": [
           {
            "colorbar": {
             "outlinewidth": 0,
             "ticks": ""
            },
            "type": "choropleth"
           }
          ],
          "contour": [
           {
            "colorbar": {
             "outlinewidth": 0,
             "ticks": ""
            },
            "colorscale": [
             [
              0,
              "#0d0887"
             ],
             [
              0.1111111111111111,
              "#46039f"
             ],
             [
              0.2222222222222222,
              "#7201a8"
             ],
             [
              0.3333333333333333,
              "#9c179e"
             ],
             [
              0.4444444444444444,
              "#bd3786"
             ],
             [
              0.5555555555555556,
              "#d8576b"
             ],
             [
              0.6666666666666666,
              "#ed7953"
             ],
             [
              0.7777777777777778,
              "#fb9f3a"
             ],
             [
              0.8888888888888888,
              "#fdca26"
             ],
             [
              1,
              "#f0f921"
             ]
            ],
            "type": "contour"
           }
          ],
          "contourcarpet": [
           {
            "colorbar": {
             "outlinewidth": 0,
             "ticks": ""
            },
            "type": "contourcarpet"
           }
          ],
          "heatmap": [
           {
            "colorbar": {
             "outlinewidth": 0,
             "ticks": ""
            },
            "colorscale": [
             [
              0,
              "#0d0887"
             ],
             [
              0.1111111111111111,
              "#46039f"
             ],
             [
              0.2222222222222222,
              "#7201a8"
             ],
             [
              0.3333333333333333,
              "#9c179e"
             ],
             [
              0.4444444444444444,
              "#bd3786"
             ],
             [
              0.5555555555555556,
              "#d8576b"
             ],
             [
              0.6666666666666666,
              "#ed7953"
             ],
             [
              0.7777777777777778,
              "#fb9f3a"
             ],
             [
              0.8888888888888888,
              "#fdca26"
             ],
             [
              1,
              "#f0f921"
             ]
            ],
            "type": "heatmap"
           }
          ],
          "heatmapgl": [
           {
            "colorbar": {
             "outlinewidth": 0,
             "ticks": ""
            },
            "colorscale": [
             [
              0,
              "#0d0887"
             ],
             [
              0.1111111111111111,
              "#46039f"
             ],
             [
              0.2222222222222222,
              "#7201a8"
             ],
             [
              0.3333333333333333,
              "#9c179e"
             ],
             [
              0.4444444444444444,
              "#bd3786"
             ],
             [
              0.5555555555555556,
              "#d8576b"
             ],
             [
              0.6666666666666666,
              "#ed7953"
             ],
             [
              0.7777777777777778,
              "#fb9f3a"
             ],
             [
              0.8888888888888888,
              "#fdca26"
             ],
             [
              1,
              "#f0f921"
             ]
            ],
            "type": "heatmapgl"
           }
          ],
          "histogram": [
           {
            "marker": {
             "pattern": {
              "fillmode": "overlay",
              "size": 10,
              "solidity": 0.2
             }
            },
            "type": "histogram"
           }
          ],
          "histogram2d": [
           {
            "colorbar": {
             "outlinewidth": 0,
             "ticks": ""
            },
            "colorscale": [
             [
              0,
              "#0d0887"
             ],
             [
              0.1111111111111111,
              "#46039f"
             ],
             [
              0.2222222222222222,
              "#7201a8"
             ],
             [
              0.3333333333333333,
              "#9c179e"
             ],
             [
              0.4444444444444444,
              "#bd3786"
             ],
             [
              0.5555555555555556,
              "#d8576b"
             ],
             [
              0.6666666666666666,
              "#ed7953"
             ],
             [
              0.7777777777777778,
              "#fb9f3a"
             ],
             [
              0.8888888888888888,
              "#fdca26"
             ],
             [
              1,
              "#f0f921"
             ]
            ],
            "type": "histogram2d"
           }
          ],
          "histogram2dcontour": [
           {
            "colorbar": {
             "outlinewidth": 0,
             "ticks": ""
            },
            "colorscale": [
             [
              0,
              "#0d0887"
             ],
             [
              0.1111111111111111,
              "#46039f"
             ],
             [
              0.2222222222222222,
              "#7201a8"
             ],
             [
              0.3333333333333333,
              "#9c179e"
             ],
             [
              0.4444444444444444,
              "#bd3786"
             ],
             [
              0.5555555555555556,
              "#d8576b"
             ],
             [
              0.6666666666666666,
              "#ed7953"
             ],
             [
              0.7777777777777778,
              "#fb9f3a"
             ],
             [
              0.8888888888888888,
              "#fdca26"
             ],
             [
              1,
              "#f0f921"
             ]
            ],
            "type": "histogram2dcontour"
           }
          ],
          "mesh3d": [
           {
            "colorbar": {
             "outlinewidth": 0,
             "ticks": ""
            },
            "type": "mesh3d"
           }
          ],
          "parcoords": [
           {
            "line": {
             "colorbar": {
              "outlinewidth": 0,
              "ticks": ""
             }
            },
            "type": "parcoords"
           }
          ],
          "pie": [
           {
            "automargin": true,
            "type": "pie"
           }
          ],
          "scatter": [
           {
            "fillpattern": {
             "fillmode": "overlay",
             "size": 10,
             "solidity": 0.2
            },
            "type": "scatter"
           }
          ],
          "scatter3d": [
           {
            "line": {
             "colorbar": {
              "outlinewidth": 0,
              "ticks": ""
             }
            },
            "marker": {
             "colorbar": {
              "outlinewidth": 0,
              "ticks": ""
             }
            },
            "type": "scatter3d"
           }
          ],
          "scattercarpet": [
           {
            "marker": {
             "colorbar": {
              "outlinewidth": 0,
              "ticks": ""
             }
            },
            "type": "scattercarpet"
           }
          ],
          "scattergeo": [
           {
            "marker": {
             "colorbar": {
              "outlinewidth": 0,
              "ticks": ""
             }
            },
            "type": "scattergeo"
           }
          ],
          "scattergl": [
           {
            "marker": {
             "colorbar": {
              "outlinewidth": 0,
              "ticks": ""
             }
            },
            "type": "scattergl"
           }
          ],
          "scattermapbox": [
           {
            "marker": {
             "colorbar": {
              "outlinewidth": 0,
              "ticks": ""
             }
            },
            "type": "scattermapbox"
           }
          ],
          "scatterpolar": [
           {
            "marker": {
             "colorbar": {
              "outlinewidth": 0,
              "ticks": ""
             }
            },
            "type": "scatterpolar"
           }
          ],
          "scatterpolargl": [
           {
            "marker": {
             "colorbar": {
              "outlinewidth": 0,
              "ticks": ""
             }
            },
            "type": "scatterpolargl"
           }
          ],
          "scatterternary": [
           {
            "marker": {
             "colorbar": {
              "outlinewidth": 0,
              "ticks": ""
             }
            },
            "type": "scatterternary"
           }
          ],
          "surface": [
           {
            "colorbar": {
             "outlinewidth": 0,
             "ticks": ""
            },
            "colorscale": [
             [
              0,
              "#0d0887"
             ],
             [
              0.1111111111111111,
              "#46039f"
             ],
             [
              0.2222222222222222,
              "#7201a8"
             ],
             [
              0.3333333333333333,
              "#9c179e"
             ],
             [
              0.4444444444444444,
              "#bd3786"
             ],
             [
              0.5555555555555556,
              "#d8576b"
             ],
             [
              0.6666666666666666,
              "#ed7953"
             ],
             [
              0.7777777777777778,
              "#fb9f3a"
             ],
             [
              0.8888888888888888,
              "#fdca26"
             ],
             [
              1,
              "#f0f921"
             ]
            ],
            "type": "surface"
           }
          ],
          "table": [
           {
            "cells": {
             "fill": {
              "color": "#EBF0F8"
             },
             "line": {
              "color": "white"
             }
            },
            "header": {
             "fill": {
              "color": "#C8D4E3"
             },
             "line": {
              "color": "white"
             }
            },
            "type": "table"
           }
          ]
         },
         "layout": {
          "annotationdefaults": {
           "arrowcolor": "#2a3f5f",
           "arrowhead": 0,
           "arrowwidth": 1
          },
          "autotypenumbers": "strict",
          "coloraxis": {
           "colorbar": {
            "outlinewidth": 0,
            "ticks": ""
           }
          },
          "colorscale": {
           "diverging": [
            [
             0,
             "#8e0152"
            ],
            [
             0.1,
             "#c51b7d"
            ],
            [
             0.2,
             "#de77ae"
            ],
            [
             0.3,
             "#f1b6da"
            ],
            [
             0.4,
             "#fde0ef"
            ],
            [
             0.5,
             "#f7f7f7"
            ],
            [
             0.6,
             "#e6f5d0"
            ],
            [
             0.7,
             "#b8e186"
            ],
            [
             0.8,
             "#7fbc41"
            ],
            [
             0.9,
             "#4d9221"
            ],
            [
             1,
             "#276419"
            ]
           ],
           "sequential": [
            [
             0,
             "#0d0887"
            ],
            [
             0.1111111111111111,
             "#46039f"
            ],
            [
             0.2222222222222222,
             "#7201a8"
            ],
            [
             0.3333333333333333,
             "#9c179e"
            ],
            [
             0.4444444444444444,
             "#bd3786"
            ],
            [
             0.5555555555555556,
             "#d8576b"
            ],
            [
             0.6666666666666666,
             "#ed7953"
            ],
            [
             0.7777777777777778,
             "#fb9f3a"
            ],
            [
             0.8888888888888888,
             "#fdca26"
            ],
            [
             1,
             "#f0f921"
            ]
           ],
           "sequentialminus": [
            [
             0,
             "#0d0887"
            ],
            [
             0.1111111111111111,
             "#46039f"
            ],
            [
             0.2222222222222222,
             "#7201a8"
            ],
            [
             0.3333333333333333,
             "#9c179e"
            ],
            [
             0.4444444444444444,
             "#bd3786"
            ],
            [
             0.5555555555555556,
             "#d8576b"
            ],
            [
             0.6666666666666666,
             "#ed7953"
            ],
            [
             0.7777777777777778,
             "#fb9f3a"
            ],
            [
             0.8888888888888888,
             "#fdca26"
            ],
            [
             1,
             "#f0f921"
            ]
           ]
          },
          "colorway": [
           "#636efa",
           "#EF553B",
           "#00cc96",
           "#ab63fa",
           "#FFA15A",
           "#19d3f3",
           "#FF6692",
           "#B6E880",
           "#FF97FF",
           "#FECB52"
          ],
          "font": {
           "color": "#2a3f5f"
          },
          "geo": {
           "bgcolor": "white",
           "lakecolor": "white",
           "landcolor": "#E5ECF6",
           "showlakes": true,
           "showland": true,
           "subunitcolor": "white"
          },
          "hoverlabel": {
           "align": "left"
          },
          "hovermode": "closest",
          "mapbox": {
           "style": "light"
          },
          "paper_bgcolor": "white",
          "plot_bgcolor": "#E5ECF6",
          "polar": {
           "angularaxis": {
            "gridcolor": "white",
            "linecolor": "white",
            "ticks": ""
           },
           "bgcolor": "#E5ECF6",
           "radialaxis": {
            "gridcolor": "white",
            "linecolor": "white",
            "ticks": ""
           }
          },
          "scene": {
           "xaxis": {
            "backgroundcolor": "#E5ECF6",
            "gridcolor": "white",
            "gridwidth": 2,
            "linecolor": "white",
            "showbackground": true,
            "ticks": "",
            "zerolinecolor": "white"
           },
           "yaxis": {
            "backgroundcolor": "#E5ECF6",
            "gridcolor": "white",
            "gridwidth": 2,
            "linecolor": "white",
            "showbackground": true,
            "ticks": "",
            "zerolinecolor": "white"
           },
           "zaxis": {
            "backgroundcolor": "#E5ECF6",
            "gridcolor": "white",
            "gridwidth": 2,
            "linecolor": "white",
            "showbackground": true,
            "ticks": "",
            "zerolinecolor": "white"
           }
          },
          "shapedefaults": {
           "line": {
            "color": "#2a3f5f"
           }
          },
          "ternary": {
           "aaxis": {
            "gridcolor": "white",
            "linecolor": "white",
            "ticks": ""
           },
           "baxis": {
            "gridcolor": "white",
            "linecolor": "white",
            "ticks": ""
           },
           "bgcolor": "#E5ECF6",
           "caxis": {
            "gridcolor": "white",
            "linecolor": "white",
            "ticks": ""
           }
          },
          "title": {
           "x": 0.05
          },
          "xaxis": {
           "automargin": true,
           "gridcolor": "white",
           "linecolor": "white",
           "ticks": "",
           "title": {
            "standoff": 15
           },
           "zerolinecolor": "white",
           "zerolinewidth": 2
          },
          "yaxis": {
           "automargin": true,
           "gridcolor": "white",
           "linecolor": "white",
           "ticks": "",
           "title": {
            "standoff": 15
           },
           "zerolinecolor": "white",
           "zerolinewidth": 2
          }
         }
        },
        "title": {
         "text": "Male and Female v"
        }
       }
      },
      "text/html": [
       "<div>                        <script type=\"text/javascript\">window.PlotlyConfig = {MathJaxConfig: 'local'};</script>\n",
       "        <script charset=\"utf-8\" src=\"https://cdn.plot.ly/plotly-2.20.0.min.js\"></script>                <div id=\"fecc4111-6fd6-4042-b0be-74d0676c35b9\" class=\"plotly-graph-div\" style=\"height:100%; width:100%;\"></div>            <script type=\"text/javascript\">                                    window.PLOTLYENV=window.PLOTLYENV || {};                                    if (document.getElementById(\"fecc4111-6fd6-4042-b0be-74d0676c35b9\")) {                    Plotly.newPlot(                        \"fecc4111-6fd6-4042-b0be-74d0676c35b9\",                        [{\"domain\":{\"x\":[0.0,1.0],\"y\":[0.0,1.0]},\"hovertemplate\":\"label=%{label}<br>value=%{value}<extra></extra>\",\"labels\":[\"male\",\"female\"],\"legendgroup\":\"\",\"name\":\"\",\"showlegend\":true,\"values\":[7138698858.0,6321628736.0],\"type\":\"pie\"}],                        {\"template\":{\"data\":{\"histogram2dcontour\":[{\"type\":\"histogram2dcontour\",\"colorbar\":{\"outlinewidth\":0,\"ticks\":\"\"},\"colorscale\":[[0.0,\"#0d0887\"],[0.1111111111111111,\"#46039f\"],[0.2222222222222222,\"#7201a8\"],[0.3333333333333333,\"#9c179e\"],[0.4444444444444444,\"#bd3786\"],[0.5555555555555556,\"#d8576b\"],[0.6666666666666666,\"#ed7953\"],[0.7777777777777778,\"#fb9f3a\"],[0.8888888888888888,\"#fdca26\"],[1.0,\"#f0f921\"]]}],\"choropleth\":[{\"type\":\"choropleth\",\"colorbar\":{\"outlinewidth\":0,\"ticks\":\"\"}}],\"histogram2d\":[{\"type\":\"histogram2d\",\"colorbar\":{\"outlinewidth\":0,\"ticks\":\"\"},\"colorscale\":[[0.0,\"#0d0887\"],[0.1111111111111111,\"#46039f\"],[0.2222222222222222,\"#7201a8\"],[0.3333333333333333,\"#9c179e\"],[0.4444444444444444,\"#bd3786\"],[0.5555555555555556,\"#d8576b\"],[0.6666666666666666,\"#ed7953\"],[0.7777777777777778,\"#fb9f3a\"],[0.8888888888888888,\"#fdca26\"],[1.0,\"#f0f921\"]]}],\"heatmap\":[{\"type\":\"heatmap\",\"colorbar\":{\"outlinewidth\":0,\"ticks\":\"\"},\"colorscale\":[[0.0,\"#0d0887\"],[0.1111111111111111,\"#46039f\"],[0.2222222222222222,\"#7201a8\"],[0.3333333333333333,\"#9c179e\"],[0.4444444444444444,\"#bd3786\"],[0.5555555555555556,\"#d8576b\"],[0.6666666666666666,\"#ed7953\"],[0.7777777777777778,\"#fb9f3a\"],[0.8888888888888888,\"#fdca26\"],[1.0,\"#f0f921\"]]}],\"heatmapgl\":[{\"type\":\"heatmapgl\",\"colorbar\":{\"outlinewidth\":0,\"ticks\":\"\"},\"colorscale\":[[0.0,\"#0d0887\"],[0.1111111111111111,\"#46039f\"],[0.2222222222222222,\"#7201a8\"],[0.3333333333333333,\"#9c179e\"],[0.4444444444444444,\"#bd3786\"],[0.5555555555555556,\"#d8576b\"],[0.6666666666666666,\"#ed7953\"],[0.7777777777777778,\"#fb9f3a\"],[0.8888888888888888,\"#fdca26\"],[1.0,\"#f0f921\"]]}],\"contourcarpet\":[{\"type\":\"contourcarpet\",\"colorbar\":{\"outlinewidth\":0,\"ticks\":\"\"}}],\"contour\":[{\"type\":\"contour\",\"colorbar\":{\"outlinewidth\":0,\"ticks\":\"\"},\"colorscale\":[[0.0,\"#0d0887\"],[0.1111111111111111,\"#46039f\"],[0.2222222222222222,\"#7201a8\"],[0.3333333333333333,\"#9c179e\"],[0.4444444444444444,\"#bd3786\"],[0.5555555555555556,\"#d8576b\"],[0.6666666666666666,\"#ed7953\"],[0.7777777777777778,\"#fb9f3a\"],[0.8888888888888888,\"#fdca26\"],[1.0,\"#f0f921\"]]}],\"surface\":[{\"type\":\"surface\",\"colorbar\":{\"outlinewidth\":0,\"ticks\":\"\"},\"colorscale\":[[0.0,\"#0d0887\"],[0.1111111111111111,\"#46039f\"],[0.2222222222222222,\"#7201a8\"],[0.3333333333333333,\"#9c179e\"],[0.4444444444444444,\"#bd3786\"],[0.5555555555555556,\"#d8576b\"],[0.6666666666666666,\"#ed7953\"],[0.7777777777777778,\"#fb9f3a\"],[0.8888888888888888,\"#fdca26\"],[1.0,\"#f0f921\"]]}],\"mesh3d\":[{\"type\":\"mesh3d\",\"colorbar\":{\"outlinewidth\":0,\"ticks\":\"\"}}],\"scatter\":[{\"fillpattern\":{\"fillmode\":\"overlay\",\"size\":10,\"solidity\":0.2},\"type\":\"scatter\"}],\"parcoords\":[{\"type\":\"parcoords\",\"line\":{\"colorbar\":{\"outlinewidth\":0,\"ticks\":\"\"}}}],\"scatterpolargl\":[{\"type\":\"scatterpolargl\",\"marker\":{\"colorbar\":{\"outlinewidth\":0,\"ticks\":\"\"}}}],\"bar\":[{\"error_x\":{\"color\":\"#2a3f5f\"},\"error_y\":{\"color\":\"#2a3f5f\"},\"marker\":{\"line\":{\"color\":\"#E5ECF6\",\"width\":0.5},\"pattern\":{\"fillmode\":\"overlay\",\"size\":10,\"solidity\":0.2}},\"type\":\"bar\"}],\"scattergeo\":[{\"type\":\"scattergeo\",\"marker\":{\"colorbar\":{\"outlinewidth\":0,\"ticks\":\"\"}}}],\"scatterpolar\":[{\"type\":\"scatterpolar\",\"marker\":{\"colorbar\":{\"outlinewidth\":0,\"ticks\":\"\"}}}],\"histogram\":[{\"marker\":{\"pattern\":{\"fillmode\":\"overlay\",\"size\":10,\"solidity\":0.2}},\"type\":\"histogram\"}],\"scattergl\":[{\"type\":\"scattergl\",\"marker\":{\"colorbar\":{\"outlinewidth\":0,\"ticks\":\"\"}}}],\"scatter3d\":[{\"type\":\"scatter3d\",\"line\":{\"colorbar\":{\"outlinewidth\":0,\"ticks\":\"\"}},\"marker\":{\"colorbar\":{\"outlinewidth\":0,\"ticks\":\"\"}}}],\"scattermapbox\":[{\"type\":\"scattermapbox\",\"marker\":{\"colorbar\":{\"outlinewidth\":0,\"ticks\":\"\"}}}],\"scatterternary\":[{\"type\":\"scatterternary\",\"marker\":{\"colorbar\":{\"outlinewidth\":0,\"ticks\":\"\"}}}],\"scattercarpet\":[{\"type\":\"scattercarpet\",\"marker\":{\"colorbar\":{\"outlinewidth\":0,\"ticks\":\"\"}}}],\"carpet\":[{\"aaxis\":{\"endlinecolor\":\"#2a3f5f\",\"gridcolor\":\"white\",\"linecolor\":\"white\",\"minorgridcolor\":\"white\",\"startlinecolor\":\"#2a3f5f\"},\"baxis\":{\"endlinecolor\":\"#2a3f5f\",\"gridcolor\":\"white\",\"linecolor\":\"white\",\"minorgridcolor\":\"white\",\"startlinecolor\":\"#2a3f5f\"},\"type\":\"carpet\"}],\"table\":[{\"cells\":{\"fill\":{\"color\":\"#EBF0F8\"},\"line\":{\"color\":\"white\"}},\"header\":{\"fill\":{\"color\":\"#C8D4E3\"},\"line\":{\"color\":\"white\"}},\"type\":\"table\"}],\"barpolar\":[{\"marker\":{\"line\":{\"color\":\"#E5ECF6\",\"width\":0.5},\"pattern\":{\"fillmode\":\"overlay\",\"size\":10,\"solidity\":0.2}},\"type\":\"barpolar\"}],\"pie\":[{\"automargin\":true,\"type\":\"pie\"}]},\"layout\":{\"autotypenumbers\":\"strict\",\"colorway\":[\"#636efa\",\"#EF553B\",\"#00cc96\",\"#ab63fa\",\"#FFA15A\",\"#19d3f3\",\"#FF6692\",\"#B6E880\",\"#FF97FF\",\"#FECB52\"],\"font\":{\"color\":\"#2a3f5f\"},\"hovermode\":\"closest\",\"hoverlabel\":{\"align\":\"left\"},\"paper_bgcolor\":\"white\",\"plot_bgcolor\":\"#E5ECF6\",\"polar\":{\"bgcolor\":\"#E5ECF6\",\"angularaxis\":{\"gridcolor\":\"white\",\"linecolor\":\"white\",\"ticks\":\"\"},\"radialaxis\":{\"gridcolor\":\"white\",\"linecolor\":\"white\",\"ticks\":\"\"}},\"ternary\":{\"bgcolor\":\"#E5ECF6\",\"aaxis\":{\"gridcolor\":\"white\",\"linecolor\":\"white\",\"ticks\":\"\"},\"baxis\":{\"gridcolor\":\"white\",\"linecolor\":\"white\",\"ticks\":\"\"},\"caxis\":{\"gridcolor\":\"white\",\"linecolor\":\"white\",\"ticks\":\"\"}},\"coloraxis\":{\"colorbar\":{\"outlinewidth\":0,\"ticks\":\"\"}},\"colorscale\":{\"sequential\":[[0.0,\"#0d0887\"],[0.1111111111111111,\"#46039f\"],[0.2222222222222222,\"#7201a8\"],[0.3333333333333333,\"#9c179e\"],[0.4444444444444444,\"#bd3786\"],[0.5555555555555556,\"#d8576b\"],[0.6666666666666666,\"#ed7953\"],[0.7777777777777778,\"#fb9f3a\"],[0.8888888888888888,\"#fdca26\"],[1.0,\"#f0f921\"]],\"sequentialminus\":[[0.0,\"#0d0887\"],[0.1111111111111111,\"#46039f\"],[0.2222222222222222,\"#7201a8\"],[0.3333333333333333,\"#9c179e\"],[0.4444444444444444,\"#bd3786\"],[0.5555555555555556,\"#d8576b\"],[0.6666666666666666,\"#ed7953\"],[0.7777777777777778,\"#fb9f3a\"],[0.8888888888888888,\"#fdca26\"],[1.0,\"#f0f921\"]],\"diverging\":[[0,\"#8e0152\"],[0.1,\"#c51b7d\"],[0.2,\"#de77ae\"],[0.3,\"#f1b6da\"],[0.4,\"#fde0ef\"],[0.5,\"#f7f7f7\"],[0.6,\"#e6f5d0\"],[0.7,\"#b8e186\"],[0.8,\"#7fbc41\"],[0.9,\"#4d9221\"],[1,\"#276419\"]]},\"xaxis\":{\"gridcolor\":\"white\",\"linecolor\":\"white\",\"ticks\":\"\",\"title\":{\"standoff\":15},\"zerolinecolor\":\"white\",\"automargin\":true,\"zerolinewidth\":2},\"yaxis\":{\"gridcolor\":\"white\",\"linecolor\":\"white\",\"ticks\":\"\",\"title\":{\"standoff\":15},\"zerolinecolor\":\"white\",\"automargin\":true,\"zerolinewidth\":2},\"scene\":{\"xaxis\":{\"backgroundcolor\":\"#E5ECF6\",\"gridcolor\":\"white\",\"linecolor\":\"white\",\"showbackground\":true,\"ticks\":\"\",\"zerolinecolor\":\"white\",\"gridwidth\":2},\"yaxis\":{\"backgroundcolor\":\"#E5ECF6\",\"gridcolor\":\"white\",\"linecolor\":\"white\",\"showbackground\":true,\"ticks\":\"\",\"zerolinecolor\":\"white\",\"gridwidth\":2},\"zaxis\":{\"backgroundcolor\":\"#E5ECF6\",\"gridcolor\":\"white\",\"linecolor\":\"white\",\"showbackground\":true,\"ticks\":\"\",\"zerolinecolor\":\"white\",\"gridwidth\":2}},\"shapedefaults\":{\"line\":{\"color\":\"#2a3f5f\"}},\"annotationdefaults\":{\"arrowcolor\":\"#2a3f5f\",\"arrowhead\":0,\"arrowwidth\":1},\"geo\":{\"bgcolor\":\"white\",\"landcolor\":\"#E5ECF6\",\"subunitcolor\":\"white\",\"showland\":true,\"showlakes\":true,\"lakecolor\":\"white\"},\"title\":{\"x\":0.05},\"mapbox\":{\"style\":\"light\"}}},\"legend\":{\"tracegroupgap\":0},\"title\":{\"text\":\"Male and Female v\"}},                        {\"responsive\": true}                    )                };                            </script>        </div>"
      ],
      "text/plain": [
       "Figure({\n",
       "    'data': [{'domain': {'x': [0.0, 1.0], 'y': [0.0, 1.0]},\n",
       "              'hovertemplate': 'label=%{label}<br>value=%{value}<extra></extra>',\n",
       "              'labels': array(['male', 'female'], dtype=object),\n",
       "              'legendgroup': '',\n",
       "              'name': '',\n",
       "              'showlegend': True,\n",
       "              'type': 'pie',\n",
       "              'values': array([7.13869886e+09, 6.32162874e+09])}],\n",
       "    'layout': {'legend': {'tracegroupgap': 0}, 'template': '...', 'title': {'text': 'Male and Female v'}}\n",
       "})"
      ]
     },
     "execution_count": 56,
     "metadata": {},
     "output_type": "execute_result"
    }
   ],
   "source": [
    "px.pie(names=['male','female'],values=[male,female],title='Male and Female v')"
   ]
  },
  {
   "cell_type": "code",
   "execution_count": 57,
   "metadata": {},
   "outputs": [],
   "source": [
    "vaccine_df=vaccine[vaccine['State']!='India']"
   ]
  },
  {
   "cell_type": "code",
   "execution_count": 58,
   "metadata": {},
   "outputs": [
    {
     "name": "stderr",
     "output_type": "stream",
     "text": [
      "C:\\Users\\sahra\\AppData\\Local\\Temp\\ipykernel_14956\\3077146321.py:1: SettingWithCopyWarning:\n",
      "\n",
      "\n",
      "A value is trying to be set on a copy of a slice from a DataFrame\n",
      "\n",
      "See the caveats in the documentation: https://pandas.pydata.org/pandas-docs/stable/user_guide/indexing.html#returning-a-view-versus-a-copy\n",
      "\n"
     ]
    }
   ],
   "source": [
    "vaccine_df.rename(columns = { 'Total Individuals Vaccinated':'Total'},inplace=True)"
   ]
  },
  {
   "cell_type": "code",
   "execution_count": 59,
   "metadata": {},
   "outputs": [],
   "source": [
    "#max_vac=vaccine_df.groupby(by='State')['Total'].sum().sort_values(by=['Total'],ascending=False\n",
    "max_va=vaccine_df.groupby(by='State').sum()[['Total']].sort_values(by=['Total'],ascending=False).iloc[:10].reset_index()"
   ]
  },
  {
   "attachments": {},
   "cell_type": "markdown",
   "metadata": {},
   "source": [
    "Maximum Vaccination is done in Maharastra"
   ]
  },
  {
   "cell_type": "code",
   "execution_count": 60,
   "metadata": {},
   "outputs": [
    {
     "data": {
      "text/html": [
       "<div>\n",
       "<style scoped>\n",
       "    .dataframe tbody tr th:only-of-type {\n",
       "        vertical-align: middle;\n",
       "    }\n",
       "\n",
       "    .dataframe tbody tr th {\n",
       "        vertical-align: top;\n",
       "    }\n",
       "\n",
       "    .dataframe thead th {\n",
       "        text-align: right;\n",
       "    }\n",
       "</style>\n",
       "<table border=\"1\" class=\"dataframe\">\n",
       "  <thead>\n",
       "    <tr style=\"text-align: right;\">\n",
       "      <th></th>\n",
       "      <th>State</th>\n",
       "      <th>Total</th>\n",
       "    </tr>\n",
       "  </thead>\n",
       "  <tbody>\n",
       "    <tr>\n",
       "      <th>0</th>\n",
       "      <td>Maharashtra</td>\n",
       "      <td>1.403075e+09</td>\n",
       "    </tr>\n",
       "    <tr>\n",
       "      <th>1</th>\n",
       "      <td>Uttar Pradesh</td>\n",
       "      <td>1.200575e+09</td>\n",
       "    </tr>\n",
       "    <tr>\n",
       "      <th>2</th>\n",
       "      <td>Rajasthan</td>\n",
       "      <td>1.141163e+09</td>\n",
       "    </tr>\n",
       "    <tr>\n",
       "      <th>3</th>\n",
       "      <td>Gujarat</td>\n",
       "      <td>1.078261e+09</td>\n",
       "    </tr>\n",
       "    <tr>\n",
       "      <th>4</th>\n",
       "      <td>West Bengal</td>\n",
       "      <td>9.250227e+08</td>\n",
       "    </tr>\n",
       "    <tr>\n",
       "      <th>5</th>\n",
       "      <td>Karnataka</td>\n",
       "      <td>8.685235e+08</td>\n",
       "    </tr>\n",
       "    <tr>\n",
       "      <th>6</th>\n",
       "      <td>Madhya Pradesh</td>\n",
       "      <td>7.718640e+08</td>\n",
       "    </tr>\n",
       "    <tr>\n",
       "      <th>7</th>\n",
       "      <td>Bihar</td>\n",
       "      <td>6.608479e+08</td>\n",
       "    </tr>\n",
       "    <tr>\n",
       "      <th>8</th>\n",
       "      <td>Kerala</td>\n",
       "      <td>6.208252e+08</td>\n",
       "    </tr>\n",
       "    <tr>\n",
       "      <th>9</th>\n",
       "      <td>Andhra Pradesh</td>\n",
       "      <td>5.645911e+08</td>\n",
       "    </tr>\n",
       "  </tbody>\n",
       "</table>\n",
       "</div>"
      ],
      "text/plain": [
       "            State         Total\n",
       "0     Maharashtra  1.403075e+09\n",
       "1   Uttar Pradesh  1.200575e+09\n",
       "2       Rajasthan  1.141163e+09\n",
       "3         Gujarat  1.078261e+09\n",
       "4     West Bengal  9.250227e+08\n",
       "5       Karnataka  8.685235e+08\n",
       "6  Madhya Pradesh  7.718640e+08\n",
       "7           Bihar  6.608479e+08\n",
       "8          Kerala  6.208252e+08\n",
       "9  Andhra Pradesh  5.645911e+08"
      ]
     },
     "execution_count": 60,
     "metadata": {},
     "output_type": "execute_result"
    }
   ],
   "source": [
    "max_va"
   ]
  },
  {
   "cell_type": "code",
   "execution_count": 61,
   "metadata": {},
   "outputs": [
    {
     "data": {
      "image/png": "[encoded data removed]",
      "text/plain": [
       "<Figure size 1600x900 with 1 Axes>"
      ]
     },
     "metadata": {},
     "output_type": "display_data"
    }
   ],
   "source": [
    "plt.figure(figsize=(16,9))\n",
    "x=sns.barplot(data=max_va,y=max_va.Total,x=max_va.State,linewidth=2,edgecolor='red')"
   ]
  },
  {
   "attachments": {},
   "cell_type": "markdown",
   "metadata": {},
   "source": [
    "---------------------------------------------------------------------------SUMMARY--------------------------------------------------------------------------\n",
    "\n",
    "\n",
    "To summarize the project, it appears to involve analyzing and visualizing COVID-19 cases and vaccination data in India using Python. Here are the key points:\n",
    "\n",
    "1. Objective: The project aims to analyze and visualize data related to COVID-19 cases and vaccination progress in India.\n",
    "\n",
    "2. Data Sources: The project likely requires access to reliable data sources that provide COVID-19 cases and vaccination data specific to India. These sources may include government databases, public health organizations, or other reliable sources.\n",
    "\n",
    "3. Python Libraries: The code snippet provided imports several Python libraries commonly used for data analysis and visualization tasks, including pandas, numpy, matplotlib.pyplot, and seaborn.\n",
    "\n",
    "4. Pandas for Data Manipulation: The pandas library is commonly used for data manipulation, allowing the user to load, clean, filter, and transform data in various ways.\n",
    "\n",
    "5. Numpy for Numerical Computations: The numpy library provides support for numerical computations, including mathematical operations and handling large arrays of data efficiently.\n",
    "\n",
    "6. Matplotlib and Seaborn for Visualization: The matplotlib.pyplot module and seaborn library are used for creating visualizations, such as line plots, bar charts, scatter plots, and more, to represent COVID-19 cases and vaccination data visually.\n",
    "\n",
    "7. Analysis and Visualization: The project likely involves performing exploratory data analysis on COVID-19 cases and vaccination data, identifying trends, patterns, and correlations. The data may be visualized using various charts, graphs, and maps to enhance understanding and communicate insights effectively.\n",
    "\n",
    "8. India-Specific Focus: The analysis and visualization are focused on COVID-19 data specific to India, considering factors like daily cases, active cases, recovered cases, vaccination coverage, and other relevant metrics.\n",
    "\n",
    "Overall, the project combines data analysis techniques with visualization tools in Python to gain insights into COVID-19 cases and vaccination progress in India. It aims to provide a comprehensive overview of the pandemic situation and vaccination efforts in the country.\n",
    "\n",
    "\n",
    "From this project we can conclude that, \n",
    "1. MAHARASHTRA is the state where the most Vaccination is done.\n",
    "2. Andhra Pradesh is the State where least Vaccination is done maybe due to least population as compared to other state.\n",
    "3. Along with that, Maharashtra is the state where more death are Occured and also most Active cases are Found there.\n",
    "\n",
    "\n",
    "\n",
    "\n",
    "********************************************************************THANK YOU😊😊***************************************************************************"
   ]
  }
 ],
 "metadata": {
  "kernelspec": {
   "display_name": "Python 3",
   "language": "python",
   "name": "python3"
  },
  "language_info": {
   "codemirror_mode": {
    "name": "ipython",
    "version": 3
   },
   "file_extension": ".py",
   "mimetype": "text/x-python",
   "name": "python",
   "nbconvert_exporter": "python",
   "pygments_lexer": "ipython3",
   "version": "3.10.11"
  },
  "orig_nbformat": 4
 },
 "nbformat": 4,
 "nbformat_minor": 2
}
